{
 "cells": [
  {
   "cell_type": "markdown",
   "metadata": {},
   "source": [
    "Let it be known now and forever more that the content I have placed in this notebook is not my own doing. Oh, no, no little ones. This comes straight from a little place called <a href=\"https://community.modeanalytics.com/python/tutorial/\">Mode</a>. My only contribution is the futile attempt to make you smile while you grind through learning a valuable lesson.\n",
    "\n",
    "Now, shift+enter some stuff!"
   ]
  },
  {
   "cell_type": "code",
   "execution_count": 1,
   "metadata": {
    "extensions": {
     "jupyter_dashboards": {
      "version": 1,
      "views": {
       "grid_default": {
        "col": 0,
        "height": 4,
        "hidden": false,
        "row": 0,
        "width": 12
       },
       "report_default": {
        "hidden": false
       }
      }
     }
    }
   },
   "outputs": [
    {
     "data": {
      "text/plain": [
       "'this is a string'"
      ]
     },
     "execution_count": 1,
     "metadata": {},
     "output_type": "execute_result"
    }
   ],
   "source": [
    "'this is a string'"
   ]
  },
  {
   "cell_type": "code",
   "execution_count": 2,
   "metadata": {
    "collapsed": true,
    "extensions": {
     "jupyter_dashboards": {
      "version": 1,
      "views": {
       "grid_default": {
        "hidden": true
       },
       "report_default": {
        "hidden": true
       }
      }
     }
    }
   },
   "outputs": [],
   "source": [
    "first_string = \"this ain't dental floss\""
   ]
  },
  {
   "cell_type": "code",
   "execution_count": 3,
   "metadata": {
    "extensions": {
     "jupyter_dashboards": {
      "version": 1,
      "views": {
       "grid_default": {
        "col": 0,
        "height": 4,
        "hidden": false,
        "row": 4,
        "width": 12
       },
       "report_default": {
        "hidden": false
       }
      }
     }
    }
   },
   "outputs": [
    {
     "name": "stdout",
     "output_type": "stream",
     "text": [
      "this ain't dental floss\n"
     ]
    }
   ],
   "source": [
    "print(first_string)"
   ]
  },
  {
   "cell_type": "code",
   "execution_count": 4,
   "metadata": {
    "extensions": {
     "jupyter_dashboards": {
      "version": 1,
      "views": {
       "grid_default": {
        "col": 0,
        "height": 4,
        "hidden": false,
        "row": 8,
        "width": 12
       },
       "report_default": {
        "hidden": false
       }
      }
     }
    }
   },
   "outputs": [
    {
     "data": {
      "text/plain": [
       "\"this ain't dental floss\""
      ]
     },
     "execution_count": 4,
     "metadata": {},
     "output_type": "execute_result"
    }
   ],
   "source": [
    "first_string"
   ]
  },
  {
   "cell_type": "markdown",
   "metadata": {
    "extensions": {
     "jupyter_dashboards": {
      "version": 1,
      "views": {
       "grid_default": {
        "hidden": true
       },
       "report_default": {
        "hidden": false
       }
      }
     }
    }
   },
   "source": [
    "# For the record...\n",
    "\n",
    "A notebook is a bit more than simply a list of stuff and things you typed. It's running code and stuff. When you assign a variable a name, it remembers that information, you know, like space shuttle technology in your grill. Bit its memory isn't exactly a strongbox: it does not remember forever.\n",
    "\n",
    "So listen, when you, in your good graces, say \"you know, I think this calls for a notebook,\" and open one up, your computer reserves some space, with your name on it. You put some work down and run a cell and there you have it: your computer uses its processor to process and like the Sword for the Stone, behold: your operation completes. So, when you assign a variable, like above with \"first_string,\" it is saved in memory (that place where actively running programs store data). If its here, you can use it, like when we said print(first_string) just above. When we clear memory, that stuff goes bye-bye like elementary school recess (without all the sadness and emptyness). Now, when you leave the memory get cleared. It ain't no thing, you just run the code again and bingo, we're back in business, baby."
   ]
  },
  {
   "cell_type": "markdown",
   "metadata": {},
   "source": [
    "# A Few Words On Stuff In Python...\n",
    "\n",
    "Evrything in our friendly little language, Python, is an object. Now, before you cry in outrage about equal rights for serpentine programming languages, I don't mean that from a superior/inferior standpoint. Moving on, we are going to center our pow-wow around four important, and mighty objects. We call them:\n",
    "+ List\n",
    "+ Dictionary\n",
    "+ Series\n",
    "+ DataFrame\n",
    "\n",
    "## List\n",
    "\n",
    "Forget what you know about the word list-- okay, just kidding. A list in Python is same damn thing as its name implies. Convenient for us, right? A nice thing about Python's lists is that it can contain whatever type of object we choose to put in it, asking very little in return: just wrap it up in square brackets. Holy bra-ket notation, Batman! That's right Robin, the list is not only an object in and of itself, but also a container for other objects. Convenience, my friend! Convenience in that how we treat the list is the same as how we treat the stuff inside the list.\n",
    "\n",
    "With the list:\n",
    "+ order will stay the same\n",
    "+ get an item in a list by referencing its position in the list (a little thing fancy folk call the index)\n",
    "\n",
    "Let try this blow some minds in the lines below with this new found knowledge, handed down from upon the high cloud of programming judgement and divinity!"
   ]
  },
  {
   "cell_type": "code",
   "execution_count": 5,
   "metadata": {
    "collapsed": true
   },
   "outputs": [],
   "source": [
    "places_i_aint_been = ['Sapporo', 'Mexico City', 'Rivendell', 'Mountain View']"
   ]
  },
  {
   "cell_type": "markdown",
   "metadata": {},
   "source": [
    "### Variable Names\n",
    "\n",
    "Would'ya look at that! We just gave that list a name! Why, now its a variable called \"places_i_ain't_been.\" Now we can call on it when in need. Watch!"
   ]
  },
  {
   "cell_type": "code",
   "execution_count": 6,
   "metadata": {},
   "outputs": [
    {
     "name": "stdout",
     "output_type": "stream",
     "text": [
      "['Sapporo', 'Mexico City', 'Rivendell', 'Mountain View']\n"
     ]
    }
   ],
   "source": [
    "print(places_i_aint_been)"
   ]
  },
  {
   "cell_type": "markdown",
   "metadata": {},
   "source": [
    "A little tip for you when declaring some variables:\n",
    "\n",
    "Since this lesson isn't geared towards aiding you in your quest to be a bonafied software developer, or softawre engineer, there is no need to make super clean, super rad code. So, try to get in the habbit of printing the variables you make immediately after you make them to make sure it looks like what you intended it to look like. This may alieviate future sphincter-tightening as you develop more complicated functions."
   ]
  },
  {
   "cell_type": "markdown",
   "metadata": {},
   "source": [
    "### Accessing The Knowledge Hidden Within The List, or How I Got An Item In My List By Rreferring To It By It's Index\n",
    "\n",
    "The position of an item contained within a list is known as its index (that's that big word I mentioned above). Python is a language that, not unlike many other languages, starts its list indexing at position zero. After contemplating that sentence, it should not surprise you that the first item in a list has an index value of 0, the second is 1, the eigth is 7, and on and on until the cows come home.\n",
    "\n",
    "Now wait, I know what you're thinking: \"Why the hell isn't the first index 1? That's dumb.\" Well, my good chum, though I may respect your opinion, I certainly disagree. Wait, stay with me, easy, boogely. My response is the penultimate reason: In the beginning there was nothing. End of conversation. Go get a glass of apple juice. Turn on Bored to Death. Evening has begun."
   ]
  },
  {
   "cell_type": "markdown",
   "metadata": {},
   "source": [
    "Here is an example of us getting the third item from our list above:"
   ]
  },
  {
   "cell_type": "code",
   "execution_count": 7,
   "metadata": {},
   "outputs": [
    {
     "data": {
      "text/plain": [
       "'Rivendell'"
      ]
     },
     "execution_count": 7,
     "metadata": {},
     "output_type": "execute_result"
    }
   ],
   "source": [
    "places_i_aint_been[2]"
   ]
  },
  {
   "cell_type": "markdown",
   "metadata": {},
   "source": [
    "As the list has a zero-indexing scheme, \"Rivendell\" has an index of 2, even though it claims its the third item in the list.\n",
    "\n",
    "What do you think the output would be if we used the index value of 0?"
   ]
  },
  {
   "cell_type": "code",
   "execution_count": 8,
   "metadata": {},
   "outputs": [
    {
     "data": {
      "text/plain": [
       "'Sapporo'"
      ]
     },
     "execution_count": 8,
     "metadata": {},
     "output_type": "execute_result"
    }
   ],
   "source": [
    "places_i_aint_been[0]"
   ]
  },
  {
   "cell_type": "markdown",
   "metadata": {},
   "source": [
    "Holy cow!"
   ]
  },
  {
   "cell_type": "markdown",
   "metadata": {},
   "source": [
    "## Dictionaries\n",
    "\n",
    "Yet another term that has a name implying what the hell it is. These objects are a colection of definitions that correspond to unique terms: a key and a value.  These bad boys are:\n",
    "\n",
    "+ unordered\n",
    "+ use keys to acces their values\n",
    "\n",
    "When you think of Python dictionaries having keys and values, what you should immediately think about is a word (key) and its definition (value) in a dictionary. I know many of the younger folk don't know what that is, but let me tell ya, back in the day, in the dark ages before Google, we looked shit up in books. If the book you were reading had a word that you could not gleen its meaning from the context it was used in, you grabbed another book. Often, this book was bigger than the one you were reading. This was called the Dictionary. Inside was a damn trove of wonders: words, most likely the one you intended to become more intimate with. Once you found the word, you then read what that word meant. Then you were smarter, and you could use that word later in conversation with people who would hear you say that word, and nod in agreement with you because they knew what you meant, then run home and look that same word up in a dictionary to find out what you really said. Then They'd be smarter and they would go out and use that word in conversation. Thus, the cycle repeats itself. Its the Circle of Life!\n",
    "\n",
    "Well, if you made it this far after that, I applaud you and your patience. When defining a dictionary (you see what I did there, right), you will want to use curly braces, lest you incur the wrath of the Python gods. Trust me, they'll let you know when they've had enough."
   ]
  },
  {
   "cell_type": "code",
   "execution_count": 9,
   "metadata": {
    "collapsed": true
   },
   "outputs": [],
   "source": [
    "beverage_opinions = {\n",
    "    'Asahi': 'I like it. It\\'s really good cold.',\n",
    "    'Sunny D': 'What am I, five? Yeah, I\\'ll have a glass.',\n",
    "    'Water': 'A timeless classic. Let me step outside the box: I\\'ll have it with ice.',\n",
    "    'Atkins Shakes':'Yes. Every morning.'}\n",
    "    "
   ]
  },
  {
   "cell_type": "code",
   "execution_count": 10,
   "metadata": {},
   "outputs": [
    {
     "data": {
      "text/plain": [
       "{'Asahi': \"I like it. It's really good cold.\",\n",
       " 'Atkins Shakes': 'Yes. Every morning.',\n",
       " 'Sunny D': \"What am I, five? Yeah, I'll have a glass.\",\n",
       " 'Water': \"A timeless classic. Let me step outside the box: I'll have it with ice.\"}"
      ]
     },
     "execution_count": 10,
     "metadata": {},
     "output_type": "execute_result"
    }
   ],
   "source": [
    "beverage_opinions"
   ]
  },
  {
   "cell_type": "markdown",
   "metadata": {},
   "source": [
    "Whoa! You saw that, right? The order it printed the dictionary contents is is in alphabetic order, not exactly the order I put them in. Cool, right?"
   ]
  },
  {
   "cell_type": "markdown",
   "metadata": {},
   "source": [
    "Now, if we want to know what I think about Sunny D, we mimic what we did with lists, except with square braces, or brackets, and we'll wrap those around the key, instead of the index."
   ]
  },
  {
   "cell_type": "code",
   "execution_count": 11,
   "metadata": {},
   "outputs": [
    {
     "data": {
      "text/plain": [
       "\"What am I, five? Yeah, I'll have a glass.\""
      ]
     },
     "execution_count": 11,
     "metadata": {},
     "output_type": "execute_result"
    }
   ],
   "source": [
    "beverage_opinions['Sunny D']"
   ]
  },
  {
   "cell_type": "markdown",
   "metadata": {
    "collapsed": true
   },
   "source": [
    "## Let's Change Some Things and Put Objects Together Too!\n",
    "\n",
    "### Changing the Values of Variable\n",
    "\n",
    "Let's say you and I had a crazy night and we drank more Atkins shakes than we could shake sticks at. I mean, we got roarin' tanked on protein. After a few trips to the potty, I look at you and proclaim that from this day forward, as I live, there is no shake that I shall suffer. So it would seem logical that I would want to change my opinion of this beverage in my dictionary of opinions. Hell, what if I had no opinion anymore, and the entire entry belonged in a dictionary called \"drinks-sans-opinion?\"\n",
    "\n",
    "Well, fear not, stranger, for we can change the the value by naming the index with the \"=\" sign. See for yourself:"
   ]
  },
  {
   "cell_type": "code",
   "execution_count": 12,
   "metadata": {
    "collapsed": true
   },
   "outputs": [],
   "source": [
    "beverage_opinions['Atkins Shakes'] = 'Oh, god, please. No, no, no...'"
   ]
  },
  {
   "cell_type": "code",
   "execution_count": 13,
   "metadata": {},
   "outputs": [
    {
     "data": {
      "text/plain": [
       "{'Asahi': \"I like it. It's really good cold.\",\n",
       " 'Atkins Shakes': 'Oh, god, please. No, no, no...',\n",
       " 'Sunny D': \"What am I, five? Yeah, I'll have a glass.\",\n",
       " 'Water': \"A timeless classic. Let me step outside the box: I'll have it with ice.\"}"
      ]
     },
     "execution_count": 13,
     "metadata": {},
     "output_type": "execute_result"
    }
   ],
   "source": [
    "beverage_opinions # post change"
   ]
  },
  {
   "cell_type": "markdown",
   "metadata": {},
   "source": [
    "When we talk about dictionaries in Pyhton, it is important to know that the keys are unique, as in, Highlander style: There can be only one. If we take another look at the dictionary we already created, we see we have a record for Asahi. This is the only Asahi that can exist in our \"beverage_opinions\" dictionary.\n",
    "\n",
    "Why not add another beverage opinion? The world could certainly make room for another opinion. We can accomplish this by calling the new entry by index name (though it doesn't exist yet, this will help in creating it), then assign a value to it. Check this out, money:"
   ]
  },
  {
   "cell_type": "code",
   "execution_count": 14,
   "metadata": {
    "collapsed": true
   },
   "outputs": [],
   "source": [
    "beverage_opinions['Tussin'] = 'Reference Chris Rock.'"
   ]
  },
  {
   "cell_type": "code",
   "execution_count": 15,
   "metadata": {},
   "outputs": [
    {
     "data": {
      "text/plain": [
       "{'Asahi': \"I like it. It's really good cold.\",\n",
       " 'Atkins Shakes': 'Oh, god, please. No, no, no...',\n",
       " 'Sunny D': \"What am I, five? Yeah, I'll have a glass.\",\n",
       " 'Tussin': 'Reference Chris Rock.',\n",
       " 'Water': \"A timeless classic. Let me step outside the box: I'll have it with ice.\"}"
      ]
     },
     "execution_count": 15,
     "metadata": {},
     "output_type": "execute_result"
    }
   ],
   "source": [
    "beverage_opinions"
   ]
  },
  {
   "cell_type": "markdown",
   "metadata": {},
   "source": [
    "Naruto! We now have an opinion on good old fashioned, remedy for everything, Tussin.\n",
    "\n",
    "So the \"=\" is going to assign values to a key if that thing exists or not. If its already there, it will overwrite the previous value, like a honey badger."
   ]
  },
  {
   "cell_type": "markdown",
   "metadata": {},
   "source": [
    "### Combining Objects. Not Quite Like Voltron.\n",
    "\n",
    "Python is a swell bedfellow when it come to combining objects. Take the creation of a dictionary of lists: we may want to list the imaginary cost of the beverages we have opinions on. This dictionary could be created by doing something like this:\n",
    "\n",
    "+ bevy_prices (the dictionary)\n",
    "  - key: string og beverages\n",
    "  - value: list of prices and opinions\n",
    "  - list items: strings, each a single price and opinion\n",
    "  \n",
    "Let's explore:"
   ]
  },
  {
   "cell_type": "code",
   "execution_count": 16,
   "metadata": {
    "collapsed": true
   },
   "outputs": [],
   "source": [
    "bevy_prices = {\n",
    "    'Water': [\n",
    "        'Shit\\'s free',\n",
    "        'A timeless classic'\n",
    "    ],\n",
    "    'Asahi': [\n",
    "        '8 moneys',\n",
    "        'I like it. A lot. :-)'\n",
    "    ]\n",
    "}"
   ]
  },
  {
   "cell_type": "markdown",
   "metadata": {},
   "source": [
    "To comprehend the level of enchantment we just conjured, and the underpinning web of arcane goodness, we will retrieve the information associated with Asahi:"
   ]
  },
  {
   "cell_type": "code",
   "execution_count": 17,
   "metadata": {},
   "outputs": [
    {
     "data": {
      "text/plain": [
       "['8 moneys', 'I like it. A lot. :-)']"
      ]
     },
     "execution_count": 17,
     "metadata": {},
     "output_type": "execute_result"
    }
   ],
   "source": [
    "bevy_prices['Asahi']"
   ]
  },
  {
   "cell_type": "raw",
   "metadata": {},
   "source": [
    "So if you, like many, don't give a crap about people's opinions, you just want to know how much of your money you have to fork over this time, you can select that entry only:"
   ]
  },
  {
   "cell_type": "code",
   "execution_count": 18,
   "metadata": {},
   "outputs": [
    {
     "data": {
      "text/plain": [
       "\"Shit's free\""
      ]
     },
     "execution_count": 18,
     "metadata": {},
     "output_type": "execute_result"
    }
   ],
   "source": [
    "bevy_prices['Water'][0]"
   ]
  },
  {
   "cell_type": "markdown",
   "metadata": {},
   "source": [
    "At least it should be..."
   ]
  },
  {
   "cell_type": "markdown",
   "metadata": {},
   "source": [
    "## George Bool's Legacy!\n",
    "\n",
    "Some values, like the ones in the above code examples, are saved as strings, but not all have to be this way. We could, for another go, store them as a boolean data type. The beautiful thing about boolleans: they only have two values. It's binary. I love it. My friend, Steven, loves it. The values: True and False. That's it. They're either True, or False. We'll see later on how useful this can be when filtering data."
   ]
  },
  {
   "cell_type": "markdown",
   "metadata": {
    "collapsed": true
   },
   "source": [
    "type() is a tool you can use to have Python tell you what kind of data something is. Lets see some examples:\n"
   ]
  },
  {
   "cell_type": "code",
   "execution_count": 19,
   "metadata": {},
   "outputs": [
    {
     "data": {
      "text/plain": [
       "bool"
      ]
     },
     "execution_count": 19,
     "metadata": {},
     "output_type": "execute_result"
    }
   ],
   "source": [
    "type(True)"
   ]
  },
  {
   "cell_type": "code",
   "execution_count": 20,
   "metadata": {},
   "outputs": [
    {
     "data": {
      "text/plain": [
       "dict"
      ]
     },
     "execution_count": 20,
     "metadata": {},
     "output_type": "execute_result"
    }
   ],
   "source": [
    "type(bevy_prices)"
   ]
  },
  {
   "cell_type": "code",
   "execution_count": 21,
   "metadata": {},
   "outputs": [
    {
     "data": {
      "text/plain": [
       "list"
      ]
     },
     "execution_count": 21,
     "metadata": {},
     "output_type": "execute_result"
    }
   ],
   "source": [
    "type(places_i_aint_been)"
   ]
  },
  {
   "cell_type": "markdown",
   "metadata": {},
   "source": [
    "### Comparing Things and Stuff With The Booleans\n",
    "\n",
    "So far, we've been setting values with the equal sign, but now we are going to see how to diversify our usage by comparing values with it. This will mean using the double eqauls sign (==) and is known as comparing equality. It looks like this:"
   ]
  },
  {
   "cell_type": "code",
   "execution_count": 23,
   "metadata": {},
   "outputs": [
    {
     "data": {
      "text/plain": [
       "True"
      ]
     },
     "execution_count": 23,
     "metadata": {},
     "output_type": "execute_result"
    }
   ],
   "source": [
    "1 == 1"
   ]
  },
  {
   "cell_type": "code",
   "execution_count": 25,
   "metadata": {},
   "outputs": [
    {
     "data": {
      "text/plain": [
       "True"
      ]
     },
     "execution_count": 25,
     "metadata": {},
     "output_type": "execute_result"
    }
   ],
   "source": [
    "'one' == 'one'"
   ]
  },
  {
   "cell_type": "code",
   "execution_count": 27,
   "metadata": {},
   "outputs": [
    {
     "data": {
      "text/plain": [
       "False"
      ]
     },
     "execution_count": 27,
     "metadata": {},
     "output_type": "execute_result"
    }
   ],
   "source": [
    "bevy_prices['Asahi'] == places_i_aint_been[2]"
   ]
  },
  {
   "cell_type": "markdown",
   "metadata": {},
   "source": [
    "Watch out now! Since we now know of two ways to use the equal sign, we must take care to ensure we are using it how we intend to use. Otherwise, you will want to compare two vaules in a list and end up changing the value like a darn goof. I mean,check this out, Money:"
   ]
  },
  {
   "cell_type": "code",
   "execution_count": 28,
   "metadata": {
    "collapsed": true
   },
   "outputs": [],
   "source": [
    "list_of_stuff = ['stuff1', 'stuff2', 'stuff3']"
   ]
  },
  {
   "cell_type": "code",
   "execution_count": 29,
   "metadata": {
    "collapsed": true
   },
   "outputs": [],
   "source": [
    "list_of_things = ['thing1', 'thing2', 'thing3']"
   ]
  },
  {
   "cell_type": "code",
   "execution_count": 30,
   "metadata": {},
   "outputs": [
    {
     "data": {
      "text/plain": [
       "True"
      ]
     },
     "execution_count": 30,
     "metadata": {},
     "output_type": "execute_result"
    }
   ],
   "source": [
    "len(list_of_stuff) == len(list_of_things)"
   ]
  },
  {
   "cell_type": "markdown",
   "metadata": {},
   "source": [
    "Yeah, man! We just confirmed our lists contained the same number of items. Cool, right? But what if I ain't paying attention when I go to see if one value in one is the same as in the other?"
   ]
  },
  {
   "cell_type": "code",
   "execution_count": 31,
   "metadata": {
    "collapsed": true
   },
   "outputs": [],
   "source": [
    "list_of_stuff[1] = list_of_things[2]"
   ]
  },
  {
   "cell_type": "code",
   "execution_count": 32,
   "metadata": {},
   "outputs": [
    {
     "name": "stdout",
     "output_type": "stream",
     "text": [
      "['stuff1', 'thing3', 'stuff3']\n"
     ]
    }
   ],
   "source": [
    "print(list_of_stuff)"
   ]
  },
  {
   "cell_type": "markdown",
   "metadata": {},
   "source": [
    "Great! Now I've got things in my stuff. No Ctrl+z on that business, my firend. I mean, yeah you can fix it, but not like with the ease of \"undo.\""
   ]
  },
  {
   "cell_type": "markdown",
   "metadata": {},
   "source": [
    "M'kay, now let's have a look at another comparison, the != operator. This baby checks for non-equivalence. When you see \"!=\" think \"not equal to\" or, for you SQL junkies out there (look, I know they exist), think of the \"<>\" in SQL and Excel.\n",
    "\n",
    "Let's try it out!"
   ]
  },
  {
   "cell_type": "code",
   "execution_count": 36,
   "metadata": {},
   "outputs": [
    {
     "name": "stdout",
     "output_type": "stream",
     "text": [
      "['stuff1', 'stuff2', 'stuff3']\n"
     ]
    }
   ],
   "source": [
    "# fix our shit first\n",
    "list_of_stuff[1] = 'stuff2'\n",
    "print(list_of_stuff)"
   ]
  },
  {
   "cell_type": "code",
   "execution_count": 37,
   "metadata": {},
   "outputs": [
    {
     "data": {
      "text/plain": [
       "True"
      ]
     },
     "execution_count": 37,
     "metadata": {},
     "output_type": "execute_result"
    }
   ],
   "source": [
    "list_of_stuff[1] != list_of_things[2]"
   ]
  },
  {
   "cell_type": "markdown",
   "metadata": {},
   "source": [
    "Damn right!\n",
    "\n",
    "Now, let's move on to another fun subject."
   ]
  },
  {
   "cell_type": "markdown",
   "metadata": {},
   "source": [
    "# Methods, Functions, and Libraries, Oh, My!\n",
    "\n",
    "Yeah, who could resist a simple reference like that? Okay, let's switch gears and look at methods in Python. Remember that dictionary, or \"dict\" as we say in the biz? You know the one."
   ]
  },
  {
   "cell_type": "code",
   "execution_count": 38,
   "metadata": {},
   "outputs": [
    {
     "data": {
      "text/plain": [
       "{'Asahi': ['8 moneys', 'I like it. A lot. :-)'],\n",
       " 'Water': [\"Shit's free\", 'A timeless classic']}"
      ]
     },
     "execution_count": 38,
     "metadata": {},
     "output_type": "execute_result"
    }
   ],
   "source": [
    "bevy_prices"
   ]
  },
  {
   "cell_type": "markdown",
   "metadata": {},
   "source": [
    "What if I told you I had no interest in all the information, or values, associated with the keys? I just wanna see the keys, man. The headlines, not whole article! I can accomplish this with the .keys() method:"
   ]
  },
  {
   "cell_type": "code",
   "execution_count": 39,
   "metadata": {},
   "outputs": [
    {
     "data": {
      "text/plain": [
       "dict_keys(['Water', 'Asahi'])"
      ]
     },
     "execution_count": 39,
     "metadata": {},
     "output_type": "execute_result"
    }
   ],
   "source": [
    "bevy_prices.keys()"
   ]
  },
  {
   "cell_type": "markdown",
   "metadata": {},
   "source": [
    "Booyah! So, a little explanation: a mehtod is a thing that you can do with an object. Think of the object \"door\" IRL, it has methods: .open(), .close(), .slam(), and .lock(). In the example above, the object is our dict and the thing we did was return the .keys().\n",
    "\n",
    "Since everything in Python, as you remember, is an object, even what the .keys() method returns is an object:"
   ]
  },
  {
   "cell_type": "code",
   "execution_count": 40,
   "metadata": {},
   "outputs": [
    {
     "data": {
      "text/plain": [
       "dict_keys"
      ]
     },
     "execution_count": 40,
     "metadata": {},
     "output_type": "execute_result"
    }
   ],
   "source": [
    "type(bevy_prices.keys())"
   ]
  },
  {
   "cell_type": "code",
   "execution_count": 41,
   "metadata": {},
   "outputs": [
    {
     "data": {
      "text/plain": [
       "dict_values"
      ]
     },
     "execution_count": 41,
     "metadata": {},
     "output_type": "execute_result"
    }
   ],
   "source": [
    "type(bevy_prices.values())"
   ]
  },
  {
   "cell_type": "markdown",
   "metadata": {},
   "source": [
    "### Using Methods on Combined Objects Like A Boss\n",
    "\n",
    "Let's take a play from the Mode book of tutorials in the next example."
   ]
  },
  {
   "cell_type": "code",
   "execution_count": 56,
   "metadata": {},
   "outputs": [],
   "source": [
    "# check this one out, from Mode\n",
    "municipalities = {\n",
    "    'New York City': [\n",
    "        'Manhattan',\n",
    "        'The Bronx',\n",
    "        'Brooklyn',\n",
    "        'Queens',\n",
    "        'Staten Island'\n",
    "    ],\n",
    "    'Tokyo': [\n",
    "        'Akihabara', \n",
    "        'Harajuku', \n",
    "        'Shimokitazawa', \n",
    "        'Nakameguro', \n",
    "        'Shibuya', \n",
    "        'Ebisu/Daikanyama', \n",
    "        'Shibuya District', \n",
    "        'Aoyama', \n",
    "        'Asakusa/Ueno', \n",
    "        'Bunkyo District', \n",
    "        'Ginza', \n",
    "        'Ikebukuro', \n",
    "        'Koto District', \n",
    "        'Meguro District', \n",
    "        'Minato District', \n",
    "        'Roppongi', \n",
    "        'Shinagawa District', \n",
    "        'Shinjuku', \n",
    "        'Shinjuku District', \n",
    "        'Sumida District', \n",
    "        'Tsukiji', \n",
    "        'Tsukishima']\n",
    "}"
   ]
  },
  {
   "cell_type": "code",
   "execution_count": 57,
   "metadata": {},
   "outputs": [
    {
     "data": {
      "text/plain": [
       "dict_values([['Manhattan', 'The Bronx', 'Brooklyn', 'Queens', 'Staten Island'], ['Akihabara', 'Harajuku', 'Shimokitazawa', 'Nakameguro', 'Shibuya', 'Ebisu/Daikanyama', 'Shibuya District', 'Aoyama', 'Asakusa/Ueno', 'Bunkyo District', 'Ginza', 'Ikebukuro', 'Koto District', 'Meguro District', 'Minato District', 'Roppongi', 'Shinagawa District', 'Shinjuku', 'Shinjuku District', 'Sumida District', 'Tsukiji', 'Tsukishima']])"
      ]
     },
     "execution_count": 57,
     "metadata": {},
     "output_type": "execute_result"
    }
   ],
   "source": [
    "municipalities.values()"
   ]
  },
  {
   "cell_type": "markdown",
   "metadata": {},
   "source": [
    "Cool, right?  It's a list of lists! See the three sets of square bracket? Remember that lists are wrapped in square brackets? Of course you do!"
   ]
  },
  {
   "cell_type": "markdown",
   "metadata": {},
   "source": [
    "## Functions, Fool!"
   ]
  }
 ],
 "metadata": {
  "extensions": {
   "jupyter_dashboards": {
    "activeView": "grid_default",
    "version": 1,
    "views": {
     "grid_default": {
      "cellMargin": 10,
      "defaultCellHeight": 20,
      "maxColumns": 12,
      "name": "grid",
      "type": "grid"
     },
     "report_default": {
      "name": "report",
      "type": "report"
     }
    }
   }
  },
  "kernelspec": {
   "display_name": "Python 3",
   "language": "python",
   "name": "python3"
  },
  "language_info": {
   "codemirror_mode": {
    "name": "ipython",
    "version": 3
   },
   "file_extension": ".py",
   "mimetype": "text/x-python",
   "name": "python",
   "nbconvert_exporter": "python",
   "pygments_lexer": "ipython3",
   "version": "3.6.1"
  }
 },
 "nbformat": 4,
 "nbformat_minor": 2
}
