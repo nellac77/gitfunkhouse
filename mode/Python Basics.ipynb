{
 "cells": [
  {
   "cell_type": "markdown",
   "metadata": {},
   "source": [
    "Let it be known now and forever more that the content I have placed in this notebook is not my own doing. Oh, no, no little ones. This comes straight from a little place called <a href=\"https://community.modeanalytics.com/python/tutorial/\">Mode</a>. My only contribution is the futile attempt to make you smile while you grind through learning a valuable lesson.\n",
    "\n",
    "Now, shift+enter some stuff!"
   ]
  },
  {
   "cell_type": "code",
   "execution_count": 1,
   "metadata": {
    "extensions": {
     "jupyter_dashboards": {
      "version": 1,
      "views": {
       "grid_default": {
        "col": 0,
        "height": 4,
        "hidden": false,
        "row": 0,
        "width": 12
       },
       "report_default": {
        "hidden": false
       }
      }
     }
    }
   },
   "outputs": [
    {
     "data": {
      "text/plain": [
       "'this is a string'"
      ]
     },
     "execution_count": 1,
     "metadata": {},
     "output_type": "execute_result"
    }
   ],
   "source": [
    "'this is a string'"
   ]
  },
  {
   "cell_type": "code",
   "execution_count": 2,
   "metadata": {
    "collapsed": true,
    "extensions": {
     "jupyter_dashboards": {
      "version": 1,
      "views": {
       "grid_default": {
        "hidden": true
       },
       "report_default": {
        "hidden": true
       }
      }
     }
    }
   },
   "outputs": [],
   "source": [
    "first_string = \"this ain't dental floss\""
   ]
  },
  {
   "cell_type": "code",
   "execution_count": 3,
   "metadata": {
    "extensions": {
     "jupyter_dashboards": {
      "version": 1,
      "views": {
       "grid_default": {
        "col": 0,
        "height": 4,
        "hidden": false,
        "row": 4,
        "width": 12
       },
       "report_default": {
        "hidden": false
       }
      }
     }
    }
   },
   "outputs": [
    {
     "name": "stdout",
     "output_type": "stream",
     "text": [
      "this ain't dental floss\n"
     ]
    }
   ],
   "source": [
    "print(first_string)"
   ]
  },
  {
   "cell_type": "code",
   "execution_count": 4,
   "metadata": {
    "extensions": {
     "jupyter_dashboards": {
      "version": 1,
      "views": {
       "grid_default": {
        "col": 0,
        "height": 4,
        "hidden": false,
        "row": 8,
        "width": 12
       },
       "report_default": {
        "hidden": false
       }
      }
     }
    }
   },
   "outputs": [
    {
     "data": {
      "text/plain": [
       "\"this ain't dental floss\""
      ]
     },
     "execution_count": 4,
     "metadata": {},
     "output_type": "execute_result"
    }
   ],
   "source": [
    "first_string"
   ]
  },
  {
   "cell_type": "markdown",
   "metadata": {
    "extensions": {
     "jupyter_dashboards": {
      "version": 1,
      "views": {
       "grid_default": {
        "hidden": true
       },
       "report_default": {
        "hidden": false
       }
      }
     }
    }
   },
   "source": [
    "# For the record...\n",
    "\n",
    "A notebook is a bit more than simply a list of stuff and things you typed. It's running code and stuff. When you assign a variable a name, it remembers that information, you know, like space shuttle technology in your grill. Bit its memory isn't exactly a strongbox: it does not remember forever.\n",
    "\n",
    "So listen, when you, in your good graces, say \"you know, I think this calls for a notebook,\" and open one up, your computer reserves some space, with your name on it. You put some work down and run a cell and there you have it: your computer uses its processor to process and like the Sword for the Stone, behold: your operation completes. So, when you assign a variable, like above with \"first_string,\" it is saved in memory (that place where actively running programs store data). If its here, you can use it, like when we said print(first_string) just above. When we clear memory, that stuff goes bye-bye like elementary school recess (without all the sadness and emptyness). Now, when you leave the memory get cleared. It ain't no thing, you just run the code again and bingo, we're back in business, baby."
   ]
  },
  {
   "cell_type": "markdown",
   "metadata": {},
   "source": [
    "# A Few Words On Stuff In Python...\n",
    "\n",
    "Evrything in our friendly little language, Python, is an object. Now, before you cry in outrage about equal rights for serpentine programming languages, I don't mean that from a superior/inferior standpoint. Moving on, we are going to center our pow-wow around four important, and mighty objects. We call them:\n",
    "+ List\n",
    "+ Dictionary\n",
    "+ Series\n",
    "+ DataFrame\n",
    "\n",
    "## List\n",
    "\n",
    "Forget what you know about the word list-- okay, just kidding. A list in Python is same damn thing as its name implies. Convenient for us, right? A nice thing about Python's lists is that it can contain whatever type of object we choose to put in it, asking very little in return: just wrap it up in square brackets. Holy bra-ket notation, Batman! That's right Robin, the list is not only an object in and of itself, but also a container for other objects. Convenience, my friend! Convenience in that how we treat the list is the same as how we treat the stuff inside the list.\n",
    "\n",
    "With the list:\n",
    "+ order will stay the same\n",
    "+ get an item in a list by referencing its position in the list (a little thing fancy folk call the index)\n",
    "\n",
    "Let try this blow some minds in the lines below with this new found knowledge, handed down from upon the high cloud of programming judgement and divinity!"
   ]
  },
  {
   "cell_type": "code",
   "execution_count": 5,
   "metadata": {
    "collapsed": true
   },
   "outputs": [],
   "source": [
    "places_i_aint_been = ['Sapporo', 'Mexico City', 'Rivendell', 'Mountain View']"
   ]
  },
  {
   "cell_type": "markdown",
   "metadata": {},
   "source": [
    "### Variable Names\n",
    "\n",
    "Would'ya look at that! We just gave that list a name! Why, now its a variable called \"places_i_ain't_been.\" Now we can call on it when in need. Watch!"
   ]
  },
  {
   "cell_type": "code",
   "execution_count": 6,
   "metadata": {},
   "outputs": [
    {
     "name": "stdout",
     "output_type": "stream",
     "text": [
      "['Sapporo', 'Mexico City', 'Rivendell', 'Mountain View']\n"
     ]
    }
   ],
   "source": [
    "print(places_i_aint_been)"
   ]
  },
  {
   "cell_type": "markdown",
   "metadata": {},
   "source": [
    "A little tip for you when declaring some variables:\n",
    "\n",
    "Since this lesson isn't geared towards aiding you in your quest to be a bonafied software developer, or softawre engineer, there is no need to make super clean, super rad code. So, try to get in the habbit of printing the variables you make immediately after you make them to make sure it looks like what you intended it to look like. This may alieviate future sphincter-tightening as you develop more complicated functions."
   ]
  },
  {
   "cell_type": "markdown",
   "metadata": {},
   "source": [
    "### Accessing The Knowledge Hidden Within The List, or How I Got An Item In My List By Rreferring To It By It's Index\n",
    "\n",
    "The position of an item contained within a list is known as its index (that's that big word I mentioned above). Python is a language that, not unlike many other languages, starts its list indexing at position zero. After contemplating that sentence, it should not surprise you that the first item in a list has an index value of 0, the second is 1, the eigth is 7, and on and on until the cows come home.\n",
    "\n",
    "Now wait, I know what you're thinking: \"Why the hell isn't the first index 1? That's dumb.\" Well, my good chum, though I may respect your opinion, I certainly disagree. Wait, stay with me, easy, boogely. My response is the penultimate reason: In the beginning there was nothing. End of conversation. Go get a glass of apple juice. Turn on Bored to Death. Evening has begun."
   ]
  },
  {
   "cell_type": "markdown",
   "metadata": {},
   "source": [
    "Here is an example of us getting the third item from our list above:"
   ]
  },
  {
   "cell_type": "code",
   "execution_count": 7,
   "metadata": {},
   "outputs": [
    {
     "data": {
      "text/plain": [
       "'Rivendell'"
      ]
     },
     "execution_count": 7,
     "metadata": {},
     "output_type": "execute_result"
    }
   ],
   "source": [
    "places_i_aint_been[2]"
   ]
  },
  {
   "cell_type": "markdown",
   "metadata": {},
   "source": [
    "As the list has a zero-indexing scheme, \"Rivendell\" has an index of 2, even though it claims its the third item in the list.\n",
    "\n",
    "What do you think the output would be if we used the index value of 0?"
   ]
  },
  {
   "cell_type": "code",
   "execution_count": 8,
   "metadata": {},
   "outputs": [
    {
     "data": {
      "text/plain": [
       "'Sapporo'"
      ]
     },
     "execution_count": 8,
     "metadata": {},
     "output_type": "execute_result"
    }
   ],
   "source": [
    "places_i_aint_been[0]"
   ]
  },
  {
   "cell_type": "markdown",
   "metadata": {},
   "source": [
    "Holy cow!"
   ]
  },
  {
   "cell_type": "markdown",
   "metadata": {},
   "source": [
    "## Dictionaries\n",
    "\n",
    "Yet another term that has a name implying what the hell it is. These objects are a colection of definitions that correspond to unique terms: a key and a value.  These bad boys are:\n",
    "\n",
    "+ unordered\n",
    "+ use keys to acces their values\n",
    "\n",
    "When you think of Python dictionaries having keys and values, what you should immediately think about is a word (key) and its definition (value) in a dictionary. I know many of the younger folk don't know what that is, but let me tell ya, back in the day, in the dark ages before Google, we looked shit up in books. If the book you were reading had a word that you could not gleen its meaning from the context it was used in, you grabbed another book. Often, this book was bigger than the one you were reading. This was called the Dictionary. Inside was a damn trove of wonders: words, most likely the one you intended to become more intimate with. Once you found the word, you then read what that word meant. Then you were smarter, and you could use that word later in conversation with people who would hear you say that word, and nod in agreement with you because they knew what you meant, then run home and look that same word up in a dictionary to find out what you really said. Then They'd be smarter and they would go out and use that word in conversation. Thus, the cycle repeats itself. Its the Circle of Life!\n",
    "\n",
    "Well, if you made it this far after that, I applaud you and your patience. When defining a dictionary (you see what I did there, right), you will want to use curly braces, lest you incur the wrath of the Python gods. Trust me, they'll let you know when they've had enough."
   ]
  },
  {
   "cell_type": "code",
   "execution_count": 9,
   "metadata": {
    "collapsed": true
   },
   "outputs": [],
   "source": [
    "beverage_opinions = {\n",
    "    'Asahi': 'I like it. It\\'s really good cold.',\n",
    "    'Sunny D': 'What am I, five? Yeah, I\\'ll have a glass.',\n",
    "    'Water': 'A timeless classic. Let me step outside the box: I\\'ll have it with ice.',\n",
    "    'Atkins Shakes':'Yes. Every morning.'}\n",
    "    "
   ]
  },
  {
   "cell_type": "code",
   "execution_count": 10,
   "metadata": {},
   "outputs": [
    {
     "data": {
      "text/plain": [
       "{'Asahi': \"I like it. It's really good cold.\",\n",
       " 'Atkins Shakes': 'Yes. Every morning.',\n",
       " 'Sunny D': \"What am I, five? Yeah, I'll have a glass.\",\n",
       " 'Water': \"A timeless classic. Let me step outside the box: I'll have it with ice.\"}"
      ]
     },
     "execution_count": 10,
     "metadata": {},
     "output_type": "execute_result"
    }
   ],
   "source": [
    "beverage_opinions"
   ]
  },
  {
   "cell_type": "markdown",
   "metadata": {},
   "source": [
    "Whoa! You saw that, right? The order it printed the dictionary contents is is in alphabetic order, not exactly the order I put them in. Cool, right?"
   ]
  },
  {
   "cell_type": "markdown",
   "metadata": {},
   "source": [
    "Now, if we want to know what I think about Sunny D, we mimic what we did with lists, except with square braces, or brackets, and we'll wrap those around the key, instead of the index."
   ]
  },
  {
   "cell_type": "code",
   "execution_count": 11,
   "metadata": {},
   "outputs": [
    {
     "data": {
      "text/plain": [
       "\"What am I, five? Yeah, I'll have a glass.\""
      ]
     },
     "execution_count": 11,
     "metadata": {},
     "output_type": "execute_result"
    }
   ],
   "source": [
    "beverage_opinions['Sunny D']"
   ]
  },
  {
   "cell_type": "markdown",
   "metadata": {
    "collapsed": true
   },
   "source": [
    "## Let's Change Some Things and Put Objects Together Too!\n",
    "\n",
    "### Changing the Values of Variable\n",
    "\n",
    "Let's say you and I had a crazy night and we drank more Atkins shakes than we could shake sticks at. I mean, we got roarin' tanked on protein. After a few trips to the potty, I look at you and proclaim that from this day forward, as I live, there is no shake that I shall suffer. So it would seem logical that I would want to change my opinion of this beverage in my dictionary of opinions. Hell, what if I had no opinion anymore, and the entire entry belonged in a dictionary called \"drinks-sans-opinion?\"\n",
    "\n",
    "Well, fear not, stranger, for we can change the the value by naming the index with the \"=\" sign. See for yourself:"
   ]
  },
  {
   "cell_type": "code",
   "execution_count": 12,
   "metadata": {
    "collapsed": true
   },
   "outputs": [],
   "source": [
    "beverage_opinions['Atkins Shakes'] = 'Oh, god, please. No, no, no...'"
   ]
  },
  {
   "cell_type": "code",
   "execution_count": 13,
   "metadata": {},
   "outputs": [
    {
     "data": {
      "text/plain": [
       "{'Asahi': \"I like it. It's really good cold.\",\n",
       " 'Atkins Shakes': 'Oh, god, please. No, no, no...',\n",
       " 'Sunny D': \"What am I, five? Yeah, I'll have a glass.\",\n",
       " 'Water': \"A timeless classic. Let me step outside the box: I'll have it with ice.\"}"
      ]
     },
     "execution_count": 13,
     "metadata": {},
     "output_type": "execute_result"
    }
   ],
   "source": [
    "beverage_opinions # post change"
   ]
  },
  {
   "cell_type": "markdown",
   "metadata": {},
   "source": [
    "When we talk about dictionaries in Pyhton, it is important to know that the keys are unique, as in, Highlander style: There can be only one. If we take another look at the dictionary we already created, we see we have a record for Asahi. This is the only Asahi that can exist in our \"beverage_opinions\" dictionary.\n",
    "\n",
    "Why not add another beverage opinion? The world could certainly make room for another opinion. We can accomplish this by calling the new entry by index name (though it doesn't exist yet, this will help in creating it), then assign a value to it. Check this out, money:"
   ]
  },
  {
   "cell_type": "code",
   "execution_count": 14,
   "metadata": {
    "collapsed": true
   },
   "outputs": [],
   "source": [
    "beverage_opinions['Tussin'] = 'Reference Chris Rock.'"
   ]
  },
  {
   "cell_type": "code",
   "execution_count": 15,
   "metadata": {},
   "outputs": [
    {
     "data": {
      "text/plain": [
       "{'Asahi': \"I like it. It's really good cold.\",\n",
       " 'Atkins Shakes': 'Oh, god, please. No, no, no...',\n",
       " 'Sunny D': \"What am I, five? Yeah, I'll have a glass.\",\n",
       " 'Tussin': 'Reference Chris Rock.',\n",
       " 'Water': \"A timeless classic. Let me step outside the box: I'll have it with ice.\"}"
      ]
     },
     "execution_count": 15,
     "metadata": {},
     "output_type": "execute_result"
    }
   ],
   "source": [
    "beverage_opinions"
   ]
  },
  {
   "cell_type": "markdown",
   "metadata": {},
   "source": [
    "Naruto! We now have an opinion on good old fashioned, remedy for everything, Tussin.\n",
    "\n",
    "So the \"=\" is going to assign values to a key if that thing exists or not. If its already there, it will overwrite the previous value, like a honey badger."
   ]
  },
  {
   "cell_type": "markdown",
   "metadata": {},
   "source": [
    "### Combining Objects. Not Quite Like Voltron.\n",
    "\n",
    "Python is a swell bedfellow when it come to combining objects. Take the creation of a dictionary of lists: we may want to list the imaginary cost of the beverages we have opinions on. This dictionary could be created by doing something like this:\n",
    "\n",
    "+ bevy_prices (the dictionary)\n",
    "  - key: string og beverages\n",
    "  - value: list of prices and opinions\n",
    "  - list items: strings, each a single price and opinion\n",
    "  \n",
    "Let's explore:"
   ]
  },
  {
   "cell_type": "code",
   "execution_count": 16,
   "metadata": {
    "collapsed": true
   },
   "outputs": [],
   "source": [
    "bevy_prices = {\n",
    "    'Water': [\n",
    "        'Shit\\'s free',\n",
    "        'A timeless classic'\n",
    "    ],\n",
    "    'Asahi': [\n",
    "        '8 moneys',\n",
    "        'I like it. A lot. :-)'\n",
    "    ]\n",
    "}"
   ]
  },
  {
   "cell_type": "markdown",
   "metadata": {},
   "source": [
    "To comprehend the level of enchantment we just conjured, and the underpinning web of arcane goodness, we will retrieve the information associated with Asahi:"
   ]
  },
  {
   "cell_type": "code",
   "execution_count": 17,
   "metadata": {},
   "outputs": [
    {
     "data": {
      "text/plain": [
       "['8 moneys', 'I like it. A lot. :-)']"
      ]
     },
     "execution_count": 17,
     "metadata": {},
     "output_type": "execute_result"
    }
   ],
   "source": [
    "bevy_prices['Asahi']"
   ]
  },
  {
   "cell_type": "raw",
   "metadata": {},
   "source": [
    "So if you, like many, don't give a crap about people's opinions, you just want to know how much of your money you have to fork over this time, you can select that entry only:"
   ]
  },
  {
   "cell_type": "code",
   "execution_count": 18,
   "metadata": {},
   "outputs": [
    {
     "data": {
      "text/plain": [
       "\"Shit's free\""
      ]
     },
     "execution_count": 18,
     "metadata": {},
     "output_type": "execute_result"
    }
   ],
   "source": [
    "bevy_prices['Water'][0]"
   ]
  },
  {
   "cell_type": "markdown",
   "metadata": {},
   "source": [
    "At least it should be..."
   ]
  },
  {
   "cell_type": "markdown",
   "metadata": {},
   "source": [
    "## George Bool's Legacy!\n",
    "\n",
    "Some values, like the ones in the above code examples, are saved as strings, but not all have to be this way. We could, for another go, store them as a boolean data type. The beautiful thing about boolleans: they only have two values. It's binary. I love it. My friend, Steven, loves it. The values: True and False. That's it. They're either True, or False. We'll see later on how useful this can be when filtering data."
   ]
  },
  {
   "cell_type": "markdown",
   "metadata": {
    "collapsed": true
   },
   "source": [
    "type() is a tool you can use to have Python tell you what kind of data something is. Lets see some examples:\n"
   ]
  },
  {
   "cell_type": "code",
   "execution_count": 19,
   "metadata": {},
   "outputs": [
    {
     "data": {
      "text/plain": [
       "bool"
      ]
     },
     "execution_count": 19,
     "metadata": {},
     "output_type": "execute_result"
    }
   ],
   "source": [
    "type(True)"
   ]
  },
  {
   "cell_type": "code",
   "execution_count": 20,
   "metadata": {},
   "outputs": [
    {
     "data": {
      "text/plain": [
       "dict"
      ]
     },
     "execution_count": 20,
     "metadata": {},
     "output_type": "execute_result"
    }
   ],
   "source": [
    "type(bevy_prices)"
   ]
  },
  {
   "cell_type": "code",
   "execution_count": 21,
   "metadata": {},
   "outputs": [
    {
     "data": {
      "text/plain": [
       "list"
      ]
     },
     "execution_count": 21,
     "metadata": {},
     "output_type": "execute_result"
    }
   ],
   "source": [
    "type(places_i_aint_been)"
   ]
  },
  {
   "cell_type": "markdown",
   "metadata": {},
   "source": [
    "### Comparing Things and Stuff With The Booleans\n",
    "\n",
    "So far, we've been setting values with the equal sign, but now we are going to see how to diversify our usage by comparing values with it. This will mean using the double eqauls sign (==) and is known as comparing equality. It looks like this:"
   ]
  },
  {
   "cell_type": "code",
   "execution_count": 22,
   "metadata": {},
   "outputs": [
    {
     "data": {
      "text/plain": [
       "True"
      ]
     },
     "execution_count": 22,
     "metadata": {},
     "output_type": "execute_result"
    }
   ],
   "source": [
    "1 == 1"
   ]
  },
  {
   "cell_type": "code",
   "execution_count": 23,
   "metadata": {},
   "outputs": [
    {
     "data": {
      "text/plain": [
       "True"
      ]
     },
     "execution_count": 23,
     "metadata": {},
     "output_type": "execute_result"
    }
   ],
   "source": [
    "'one' == 'one'"
   ]
  },
  {
   "cell_type": "code",
   "execution_count": 24,
   "metadata": {},
   "outputs": [
    {
     "data": {
      "text/plain": [
       "False"
      ]
     },
     "execution_count": 24,
     "metadata": {},
     "output_type": "execute_result"
    }
   ],
   "source": [
    "bevy_prices['Asahi'] == places_i_aint_been[2]"
   ]
  },
  {
   "cell_type": "markdown",
   "metadata": {},
   "source": [
    "Watch out now! Since we now know of two ways to use the equal sign, we must take care to ensure we are using it how we intend to use. Otherwise, you will want to compare two vaules in a list and end up changing the value like a darn goof. I mean,check this out, Money:"
   ]
  },
  {
   "cell_type": "code",
   "execution_count": 25,
   "metadata": {
    "collapsed": true
   },
   "outputs": [],
   "source": [
    "list_of_stuff = ['stuff1', 'stuff2', 'stuff3']"
   ]
  },
  {
   "cell_type": "code",
   "execution_count": 26,
   "metadata": {
    "collapsed": true
   },
   "outputs": [],
   "source": [
    "list_of_things = ['thing1', 'thing2', 'thing3']"
   ]
  },
  {
   "cell_type": "code",
   "execution_count": 27,
   "metadata": {},
   "outputs": [
    {
     "data": {
      "text/plain": [
       "True"
      ]
     },
     "execution_count": 27,
     "metadata": {},
     "output_type": "execute_result"
    }
   ],
   "source": [
    "len(list_of_stuff) == len(list_of_things)"
   ]
  },
  {
   "cell_type": "markdown",
   "metadata": {},
   "source": [
    "Yeah, man! We just confirmed our lists contained the same number of items. Cool, right? But what if I ain't paying attention when I go to see if one value in one is the same as in the other?"
   ]
  },
  {
   "cell_type": "code",
   "execution_count": 28,
   "metadata": {
    "collapsed": true
   },
   "outputs": [],
   "source": [
    "list_of_stuff[1] = list_of_things[2]"
   ]
  },
  {
   "cell_type": "code",
   "execution_count": 29,
   "metadata": {},
   "outputs": [
    {
     "name": "stdout",
     "output_type": "stream",
     "text": [
      "['stuff1', 'thing3', 'stuff3']\n"
     ]
    }
   ],
   "source": [
    "print(list_of_stuff)"
   ]
  },
  {
   "cell_type": "markdown",
   "metadata": {},
   "source": [
    "Great! Now I've got things in my stuff. No Ctrl+z on that business, my firend. I mean, yeah you can fix it, but not like with the ease of \"undo.\""
   ]
  },
  {
   "cell_type": "markdown",
   "metadata": {},
   "source": [
    "M'kay, now let's have a look at another comparison, the != operator. This baby checks for non-equivalence. When you see \"!=\" think \"not equal to\" or, for you SQL junkies out there (look, I know they exist), think of the \"<>\" in SQL and Excel.\n",
    "\n",
    "Let's try it out!"
   ]
  },
  {
   "cell_type": "code",
   "execution_count": 30,
   "metadata": {},
   "outputs": [
    {
     "name": "stdout",
     "output_type": "stream",
     "text": [
      "['stuff1', 'stuff2', 'stuff3']\n"
     ]
    }
   ],
   "source": [
    "# fix our shit first\n",
    "list_of_stuff[1] = 'stuff2'\n",
    "print(list_of_stuff)"
   ]
  },
  {
   "cell_type": "code",
   "execution_count": 31,
   "metadata": {},
   "outputs": [
    {
     "data": {
      "text/plain": [
       "True"
      ]
     },
     "execution_count": 31,
     "metadata": {},
     "output_type": "execute_result"
    }
   ],
   "source": [
    "list_of_stuff[1] != list_of_things[2]"
   ]
  },
  {
   "cell_type": "markdown",
   "metadata": {},
   "source": [
    "Damn right!\n",
    "\n",
    "Now, let's move on to another fun subject."
   ]
  },
  {
   "cell_type": "markdown",
   "metadata": {},
   "source": [
    "# Methods, Functions, and Libraries, Oh, My!\n",
    "\n",
    "Yeah, who could resist a simple reference like that? Okay, let's switch gears and look at methods in Python. Remember that dictionary, or \"dict\" as we say in the biz? You know the one."
   ]
  },
  {
   "cell_type": "code",
   "execution_count": 32,
   "metadata": {},
   "outputs": [
    {
     "data": {
      "text/plain": [
       "{'Asahi': ['8 moneys', 'I like it. A lot. :-)'],\n",
       " 'Water': [\"Shit's free\", 'A timeless classic']}"
      ]
     },
     "execution_count": 32,
     "metadata": {},
     "output_type": "execute_result"
    }
   ],
   "source": [
    "bevy_prices"
   ]
  },
  {
   "cell_type": "markdown",
   "metadata": {},
   "source": [
    "What if I told you I had no interest in all the information, or values, associated with the keys? I just wanna see the keys, man. The headlines, not whole article! I can accomplish this with the .keys() method:"
   ]
  },
  {
   "cell_type": "code",
   "execution_count": 33,
   "metadata": {},
   "outputs": [
    {
     "data": {
      "text/plain": [
       "dict_keys(['Water', 'Asahi'])"
      ]
     },
     "execution_count": 33,
     "metadata": {},
     "output_type": "execute_result"
    }
   ],
   "source": [
    "bevy_prices.keys()"
   ]
  },
  {
   "cell_type": "markdown",
   "metadata": {},
   "source": [
    "Booyah! So, a little explanation: a mehtod is a thing that you can do with an object. Think of the object \"door\" IRL, it has methods: .open(), .close(), .slam(), and .lock(). In the example above, the object is our dict and the thing we did was return the .keys().\n",
    "\n",
    "Since everything in Python, as you remember, is an object, even what the .keys() method returns is an object:"
   ]
  },
  {
   "cell_type": "code",
   "execution_count": 34,
   "metadata": {},
   "outputs": [
    {
     "data": {
      "text/plain": [
       "dict_keys"
      ]
     },
     "execution_count": 34,
     "metadata": {},
     "output_type": "execute_result"
    }
   ],
   "source": [
    "type(bevy_prices.keys())"
   ]
  },
  {
   "cell_type": "code",
   "execution_count": 35,
   "metadata": {},
   "outputs": [
    {
     "data": {
      "text/plain": [
       "dict_values"
      ]
     },
     "execution_count": 35,
     "metadata": {},
     "output_type": "execute_result"
    }
   ],
   "source": [
    "type(bevy_prices.values())"
   ]
  },
  {
   "cell_type": "markdown",
   "metadata": {},
   "source": [
    "### Using Methods on Combined Objects Like A Boss\n",
    "\n",
    "Let's take a play from the Mode book of tutorials in the next example."
   ]
  },
  {
   "cell_type": "code",
   "execution_count": 36,
   "metadata": {
    "collapsed": true
   },
   "outputs": [],
   "source": [
    "# check this one out, from Mode\n",
    "municipalities = {\n",
    "    'New York City': [\n",
    "        'Manhattan',\n",
    "        'The Bronx',\n",
    "        'Brooklyn',\n",
    "        'Queens',\n",
    "        'Staten Island'\n",
    "    ],\n",
    "    'Tokyo': [\n",
    "        'Akihabara', \n",
    "        'Harajuku', \n",
    "        'Shimokitazawa', \n",
    "        'Nakameguro', \n",
    "        'Shibuya', \n",
    "        'Ebisu/Daikanyama', \n",
    "        'Shibuya District', \n",
    "        'Aoyama', \n",
    "        'Asakusa/Ueno', \n",
    "        'Bunkyo District', \n",
    "        'Ginza', \n",
    "        'Ikebukuro', \n",
    "        'Koto District', \n",
    "        'Meguro District', \n",
    "        'Minato District', \n",
    "        'Roppongi', \n",
    "        'Shinagawa District', \n",
    "        'Shinjuku', \n",
    "        'Shinjuku District', \n",
    "        'Sumida District', \n",
    "        'Tsukiji', \n",
    "        'Tsukishima']\n",
    "}"
   ]
  },
  {
   "cell_type": "code",
   "execution_count": 37,
   "metadata": {},
   "outputs": [
    {
     "data": {
      "text/plain": [
       "dict_values([['Manhattan', 'The Bronx', 'Brooklyn', 'Queens', 'Staten Island'], ['Akihabara', 'Harajuku', 'Shimokitazawa', 'Nakameguro', 'Shibuya', 'Ebisu/Daikanyama', 'Shibuya District', 'Aoyama', 'Asakusa/Ueno', 'Bunkyo District', 'Ginza', 'Ikebukuro', 'Koto District', 'Meguro District', 'Minato District', 'Roppongi', 'Shinagawa District', 'Shinjuku', 'Shinjuku District', 'Sumida District', 'Tsukiji', 'Tsukishima']])"
      ]
     },
     "execution_count": 37,
     "metadata": {},
     "output_type": "execute_result"
    }
   ],
   "source": [
    "municipalities.values()"
   ]
  },
  {
   "cell_type": "markdown",
   "metadata": {},
   "source": [
    "Cool, right?  It's a list of lists! See the three sets of square bracket? Remember that lists are wrapped in square brackets? Of course you do!"
   ]
  },
  {
   "cell_type": "markdown",
   "metadata": {},
   "source": [
    "## Functions, Fool!\n",
    "\n",
    "You've seen the method. Now, prepare your bad self for... The Function! *gasp*\n",
    "\n",
    "Recall the .type() method. You know:"
   ]
  },
  {
   "cell_type": "code",
   "execution_count": 38,
   "metadata": {},
   "outputs": [
    {
     "name": "stdout",
     "output_type": "stream",
     "text": [
      "<class 'dict'>\n",
      "<class 'list'>\n",
      "<class 'str'>\n"
     ]
    }
   ],
   "source": [
    "print(type(municipalities))\n",
    "print(type(municipalities[\"Tokyo\"]))\n",
    "print(type(municipalities[\"Tokyo\"][0]))"
   ]
  },
  {
   "cell_type": "markdown",
   "metadata": {},
   "source": [
    "So, a function in Python is like a function in algebra. It takes an argument and performs some action on it, and the result is what is returned. Yep, there are more examples of functions we could do, but I am getting a bit worn on this material at the moment. I'm going to go ahead and kick it up a bit with some other stuff. Maybe, just maybe, one day I will retrun and flesh this out in the same fashion as above."
   ]
  },
  {
   "cell_type": "markdown",
   "metadata": {},
   "source": [
    "# Let's Import NumPy!"
   ]
  },
  {
   "cell_type": "markdown",
   "metadata": {},
   "source": [
    "NumPy is a library commonly used for mathematical methods. Let's import that this piece:"
   ]
  },
  {
   "cell_type": "code",
   "execution_count": 39,
   "metadata": {
    "collapsed": true
   },
   "outputs": [],
   "source": [
    "import numpy as np"
   ]
  },
  {
   "cell_type": "markdown",
   "metadata": {},
   "source": [
    "Like Heman, I have the power to call methods to do simple, yet tedious tasks, like take the mean, or the .mean() of a list of values. Check, check it:"
   ]
  },
  {
   "cell_type": "code",
   "execution_count": 40,
   "metadata": {
    "collapsed": true
   },
   "outputs": [],
   "source": [
    "city_population = {\n",
    "    'Tokyo': 13350000,\n",
    "    'Los Angeles': 18550000,\n",
    "    'New York City': 8400000,\n",
    "    'San Fransisco': 1837442\n",
    "}"
   ]
  },
  {
   "cell_type": "code",
   "execution_count": 41,
   "metadata": {},
   "outputs": [
    {
     "data": {
      "text/plain": [
       "dict_values([13350000, 18550000, 8400000, 1837442])"
      ]
     },
     "execution_count": 41,
     "metadata": {},
     "output_type": "execute_result"
    }
   ],
   "source": [
    "city_population.values()"
   ]
  },
  {
   "cell_type": "code",
   "execution_count": 42,
   "metadata": {
    "collapsed": true
   },
   "outputs": [],
   "source": [
    "population_values = list(city_population.values())"
   ]
  },
  {
   "cell_type": "markdown",
   "metadata": {},
   "source": [
    "Now that I have a list of values to take the average of, I will, damn it:"
   ]
  },
  {
   "cell_type": "code",
   "execution_count": 43,
   "metadata": {},
   "outputs": [
    {
     "data": {
      "text/plain": [
       "10534360.5"
      ]
     },
     "execution_count": 43,
     "metadata": {},
     "output_type": "execute_result"
    }
   ],
   "source": [
    "np.mean(population_values)"
   ]
  },
  {
   "cell_type": "markdown",
   "metadata": {},
   "source": [
    "# Now Let's Play With Pandas"
   ]
  },
  {
   "cell_type": "markdown",
   "metadata": {},
   "source": [
    "Real data, and real problems are the bread and butter of meanungful data analysis. Python has some very nice tools for us to do real fun in this realm. One of these tools, commonly used, is known as Pandeas. It contains libraries for data manipulation and analysis.\n",
    "\n",
    "\n",
    "### DataFrames\n",
    "\n",
    "Of the data structures that are in **Pandas**, two are pretty powerful: the **DataFrame** and a **Series**.  We'll start with the DataFrame.\n",
    "\n",
    "The DataFrame is like a table in SQL, or Excel, in that it allows for aggregation, filtering, and pivoting. Nice, right? Well, hold on to your butts, it get's better. Since this is a Python construct, we are able to program way more advanced stuff: operations and manipulations that SQL and Excel just can't keep up with, baby! Even better, the good folks who invented the DataFrame built tht shit for strutting all over *large* datasets.\n",
    "\n",
    "DataFrames were created with some pretty kick-ass methods. Since I did, in fact, slip right passed much stuff before pushing on to this material here. That said, I will back pedal a bit to say that methods go with objects, meaning that we will require our data to be inside a DataFrame in order to call methods on the DataFrame object. DataFrames can load data in the form of a number of different data structures and files, like lists, dictionaries, csv files, excel files, and database records. Cool, huh? Let's get to playing around!"
   ]
  },
  {
   "cell_type": "markdown",
   "metadata": {
    "collapsed": true
   },
   "source": [
    "#### First thing we'll want to do...\n",
    "\n",
    "Is import a dataset from the lovely folks over at Mode. So I will begin with a little code to read in a csv file (the dataset) as a DataFrame:"
   ]
  },
  {
   "cell_type": "code",
   "execution_count": 44,
   "metadata": {
    "collapsed": true
   },
   "outputs": [],
   "source": [
    "import pandas as pd\n",
    "# let's see if this works first:\n",
    "data = pd.read_csv('clone_of_python_tutorial_-_lessons_3_4_5_6-query_1.csv')"
   ]
  },
  {
   "cell_type": "code",
   "execution_count": 45,
   "metadata": {},
   "outputs": [
    {
     "data": {
      "text/html": [
       "<div>\n",
       "<style>\n",
       "    .dataframe thead tr:only-child th {\n",
       "        text-align: right;\n",
       "    }\n",
       "\n",
       "    .dataframe thead th {\n",
       "        text-align: left;\n",
       "    }\n",
       "\n",
       "    .dataframe tbody tr th {\n",
       "        vertical-align: top;\n",
       "    }\n",
       "</style>\n",
       "<table border=\"1\" class=\"dataframe\">\n",
       "  <thead>\n",
       "    <tr style=\"text-align: right;\">\n",
       "      <th></th>\n",
       "      <th>referrer</th>\n",
       "      <th>timestamp</th>\n",
       "      <th>title</th>\n",
       "      <th>url</th>\n",
       "      <th>user_agent</th>\n",
       "      <th>user_id</th>\n",
       "      <th>referrer_domain</th>\n",
       "      <th>website_section</th>\n",
       "      <th>platform</th>\n",
       "    </tr>\n",
       "  </thead>\n",
       "  <tbody>\n",
       "    <tr>\n",
       "      <th>0</th>\n",
       "      <td>https://www.google.com/</td>\n",
       "      <td>2016-02-05 00:48:23</td>\n",
       "      <td>Watsi | Fund medical treatments for people aro...</td>\n",
       "      <td>https://watsi.org/</td>\n",
       "      <td>Mozilla/5.0 (Macintosh; Intel Mac OS X 10_10_4...</td>\n",
       "      <td>CHAROLETTE S</td>\n",
       "      <td>google</td>\n",
       "      <td>NaN</td>\n",
       "      <td>Desktop</td>\n",
       "    </tr>\n",
       "    <tr>\n",
       "      <th>1</th>\n",
       "      <td>https://themeteorchef.com/snippets/making-use-...</td>\n",
       "      <td>2016-02-24 23:12:10</td>\n",
       "      <td>Watsi | The Meteor Chef</td>\n",
       "      <td>https://watsi.org/team/the-meteor-chef</td>\n",
       "      <td>Mozilla/5.0 (Windows NT 6.1; WOW64) AppleWebKi...</td>\n",
       "      <td>WARREN Q</td>\n",
       "      <td>themeteorchef.com</td>\n",
       "      <td>team</td>\n",
       "      <td>Desktop</td>\n",
       "    </tr>\n",
       "    <tr>\n",
       "      <th>2</th>\n",
       "      <td>https://watsi.org/</td>\n",
       "      <td>2015-12-25 17:59:35</td>\n",
       "      <td>Watsi | Give the gift of health with a Watsi G...</td>\n",
       "      <td>https://watsi.org/gift-cards</td>\n",
       "      <td>Mozilla/5.0 (Macintosh; Intel Mac OS X 10_11_1...</td>\n",
       "      <td>MITCHEL O</td>\n",
       "      <td>watsi.org</td>\n",
       "      <td>gift-cards</td>\n",
       "      <td>Desktop</td>\n",
       "    </tr>\n",
       "    <tr>\n",
       "      <th>3</th>\n",
       "      <td>NaN</td>\n",
       "      <td>2016-02-05 21:19:30</td>\n",
       "      <td>Watsi | Fund medical treatments for people aro...</td>\n",
       "      <td>https://watsi.org/</td>\n",
       "      <td>Mozilla/5.0 (Macintosh; Intel Mac OS X 10_11_2...</td>\n",
       "      <td>MICHEL O</td>\n",
       "      <td>NaN</td>\n",
       "      <td>NaN</td>\n",
       "      <td>Desktop</td>\n",
       "    </tr>\n",
       "    <tr>\n",
       "      <th>4</th>\n",
       "      <td>https://watsi.org/fund-treatments</td>\n",
       "      <td>2016-02-14 19:30:08</td>\n",
       "      <td>Watsi | Fund medical treatments for people aro...</td>\n",
       "      <td>https://watsi.org/</td>\n",
       "      <td>Mozilla/5.0 (Macintosh; Intel Mac OS X 10_10_2...</td>\n",
       "      <td>ANDREE N</td>\n",
       "      <td>watsi.org</td>\n",
       "      <td>NaN</td>\n",
       "      <td>Desktop</td>\n",
       "    </tr>\n",
       "  </tbody>\n",
       "</table>\n",
       "</div>"
      ],
      "text/plain": [
       "                                            referrer            timestamp  \\\n",
       "0                            https://www.google.com/  2016-02-05 00:48:23   \n",
       "1  https://themeteorchef.com/snippets/making-use-...  2016-02-24 23:12:10   \n",
       "2                                 https://watsi.org/  2015-12-25 17:59:35   \n",
       "3                                                NaN  2016-02-05 21:19:30   \n",
       "4                  https://watsi.org/fund-treatments  2016-02-14 19:30:08   \n",
       "\n",
       "                                               title  \\\n",
       "0  Watsi | Fund medical treatments for people aro...   \n",
       "1                            Watsi | The Meteor Chef   \n",
       "2  Watsi | Give the gift of health with a Watsi G...   \n",
       "3  Watsi | Fund medical treatments for people aro...   \n",
       "4  Watsi | Fund medical treatments for people aro...   \n",
       "\n",
       "                                      url  \\\n",
       "0                      https://watsi.org/   \n",
       "1  https://watsi.org/team/the-meteor-chef   \n",
       "2            https://watsi.org/gift-cards   \n",
       "3                      https://watsi.org/   \n",
       "4                      https://watsi.org/   \n",
       "\n",
       "                                          user_agent       user_id  \\\n",
       "0  Mozilla/5.0 (Macintosh; Intel Mac OS X 10_10_4...  CHAROLETTE S   \n",
       "1  Mozilla/5.0 (Windows NT 6.1; WOW64) AppleWebKi...      WARREN Q   \n",
       "2  Mozilla/5.0 (Macintosh; Intel Mac OS X 10_11_1...     MITCHEL O   \n",
       "3  Mozilla/5.0 (Macintosh; Intel Mac OS X 10_11_2...      MICHEL O   \n",
       "4  Mozilla/5.0 (Macintosh; Intel Mac OS X 10_10_2...      ANDREE N   \n",
       "\n",
       "     referrer_domain website_section platform  \n",
       "0             google             NaN  Desktop  \n",
       "1  themeteorchef.com            team  Desktop  \n",
       "2          watsi.org      gift-cards  Desktop  \n",
       "3                NaN             NaN  Desktop  \n",
       "4          watsi.org             NaN  Desktop  "
      ]
     },
     "execution_count": 45,
     "metadata": {},
     "output_type": "execute_result"
    }
   ],
   "source": [
    "# peek at the first five rows of the dataset\n",
    "data.head(5)"
   ]
  },
  {
   "cell_type": "markdown",
   "metadata": {},
   "source": [
    "Reading in the dataset using Pandas imports it as a DataFrame, which we assign to the variable \"data.\" Sonce this is the only dataset we are going to use for this example that name will do."
   ]
  },
  {
   "cell_type": "markdown",
   "metadata": {},
   "source": [
    "### NaN: A Researcher's Bane\n",
    "\n",
    "Okay, so if you look at the small sample of of the data above, where we print the first 5 rows, you'll see a few fields where the string \"NaN\" is entered. This stands for \"not a number,\" and can sometimes be frustrating if not dealt with. With the current dataset, the NaNs represent blank fields (\"null\" values in SQL, missing data). Due to the presence of empty values in some areas, we'll want to spend a little effort to tidy this up and make it a little easier for us to look at. To accomplish this, we'll employ the .fillna() method to replace those pesky empty values with a much nicer space, ' '."
   ]
  },
  {
   "cell_type": "code",
   "execution_count": 46,
   "metadata": {
    "collapsed": true
   },
   "outputs": [],
   "source": [
    "# replace the NaNs with a space for better viewing pleasure\n",
    "data = data.fillna(' ')"
   ]
  },
  {
   "cell_type": "markdown",
   "metadata": {},
   "source": [
    "Now, let's have another looksy:"
   ]
  },
  {
   "cell_type": "code",
   "execution_count": 47,
   "metadata": {},
   "outputs": [
    {
     "data": {
      "text/html": [
       "<div>\n",
       "<style>\n",
       "    .dataframe thead tr:only-child th {\n",
       "        text-align: right;\n",
       "    }\n",
       "\n",
       "    .dataframe thead th {\n",
       "        text-align: left;\n",
       "    }\n",
       "\n",
       "    .dataframe tbody tr th {\n",
       "        vertical-align: top;\n",
       "    }\n",
       "</style>\n",
       "<table border=\"1\" class=\"dataframe\">\n",
       "  <thead>\n",
       "    <tr style=\"text-align: right;\">\n",
       "      <th></th>\n",
       "      <th>referrer</th>\n",
       "      <th>timestamp</th>\n",
       "      <th>title</th>\n",
       "      <th>url</th>\n",
       "      <th>user_agent</th>\n",
       "      <th>user_id</th>\n",
       "      <th>referrer_domain</th>\n",
       "      <th>website_section</th>\n",
       "      <th>platform</th>\n",
       "    </tr>\n",
       "  </thead>\n",
       "  <tbody>\n",
       "    <tr>\n",
       "      <th>0</th>\n",
       "      <td>https://www.google.com/</td>\n",
       "      <td>2016-02-05 00:48:23</td>\n",
       "      <td>Watsi | Fund medical treatments for people aro...</td>\n",
       "      <td>https://watsi.org/</td>\n",
       "      <td>Mozilla/5.0 (Macintosh; Intel Mac OS X 10_10_4...</td>\n",
       "      <td>CHAROLETTE S</td>\n",
       "      <td>google</td>\n",
       "      <td></td>\n",
       "      <td>Desktop</td>\n",
       "    </tr>\n",
       "    <tr>\n",
       "      <th>1</th>\n",
       "      <td>https://themeteorchef.com/snippets/making-use-...</td>\n",
       "      <td>2016-02-24 23:12:10</td>\n",
       "      <td>Watsi | The Meteor Chef</td>\n",
       "      <td>https://watsi.org/team/the-meteor-chef</td>\n",
       "      <td>Mozilla/5.0 (Windows NT 6.1; WOW64) AppleWebKi...</td>\n",
       "      <td>WARREN Q</td>\n",
       "      <td>themeteorchef.com</td>\n",
       "      <td>team</td>\n",
       "      <td>Desktop</td>\n",
       "    </tr>\n",
       "    <tr>\n",
       "      <th>2</th>\n",
       "      <td>https://watsi.org/</td>\n",
       "      <td>2015-12-25 17:59:35</td>\n",
       "      <td>Watsi | Give the gift of health with a Watsi G...</td>\n",
       "      <td>https://watsi.org/gift-cards</td>\n",
       "      <td>Mozilla/5.0 (Macintosh; Intel Mac OS X 10_11_1...</td>\n",
       "      <td>MITCHEL O</td>\n",
       "      <td>watsi.org</td>\n",
       "      <td>gift-cards</td>\n",
       "      <td>Desktop</td>\n",
       "    </tr>\n",
       "    <tr>\n",
       "      <th>3</th>\n",
       "      <td></td>\n",
       "      <td>2016-02-05 21:19:30</td>\n",
       "      <td>Watsi | Fund medical treatments for people aro...</td>\n",
       "      <td>https://watsi.org/</td>\n",
       "      <td>Mozilla/5.0 (Macintosh; Intel Mac OS X 10_11_2...</td>\n",
       "      <td>MICHEL O</td>\n",
       "      <td></td>\n",
       "      <td></td>\n",
       "      <td>Desktop</td>\n",
       "    </tr>\n",
       "    <tr>\n",
       "      <th>4</th>\n",
       "      <td>https://watsi.org/fund-treatments</td>\n",
       "      <td>2016-02-14 19:30:08</td>\n",
       "      <td>Watsi | Fund medical treatments for people aro...</td>\n",
       "      <td>https://watsi.org/</td>\n",
       "      <td>Mozilla/5.0 (Macintosh; Intel Mac OS X 10_10_2...</td>\n",
       "      <td>ANDREE N</td>\n",
       "      <td>watsi.org</td>\n",
       "      <td></td>\n",
       "      <td>Desktop</td>\n",
       "    </tr>\n",
       "  </tbody>\n",
       "</table>\n",
       "</div>"
      ],
      "text/plain": [
       "                                            referrer            timestamp  \\\n",
       "0                            https://www.google.com/  2016-02-05 00:48:23   \n",
       "1  https://themeteorchef.com/snippets/making-use-...  2016-02-24 23:12:10   \n",
       "2                                 https://watsi.org/  2015-12-25 17:59:35   \n",
       "3                                                     2016-02-05 21:19:30   \n",
       "4                  https://watsi.org/fund-treatments  2016-02-14 19:30:08   \n",
       "\n",
       "                                               title  \\\n",
       "0  Watsi | Fund medical treatments for people aro...   \n",
       "1                            Watsi | The Meteor Chef   \n",
       "2  Watsi | Give the gift of health with a Watsi G...   \n",
       "3  Watsi | Fund medical treatments for people aro...   \n",
       "4  Watsi | Fund medical treatments for people aro...   \n",
       "\n",
       "                                      url  \\\n",
       "0                      https://watsi.org/   \n",
       "1  https://watsi.org/team/the-meteor-chef   \n",
       "2            https://watsi.org/gift-cards   \n",
       "3                      https://watsi.org/   \n",
       "4                      https://watsi.org/   \n",
       "\n",
       "                                          user_agent       user_id  \\\n",
       "0  Mozilla/5.0 (Macintosh; Intel Mac OS X 10_10_4...  CHAROLETTE S   \n",
       "1  Mozilla/5.0 (Windows NT 6.1; WOW64) AppleWebKi...      WARREN Q   \n",
       "2  Mozilla/5.0 (Macintosh; Intel Mac OS X 10_11_1...     MITCHEL O   \n",
       "3  Mozilla/5.0 (Macintosh; Intel Mac OS X 10_11_2...      MICHEL O   \n",
       "4  Mozilla/5.0 (Macintosh; Intel Mac OS X 10_10_2...      ANDREE N   \n",
       "\n",
       "     referrer_domain website_section platform  \n",
       "0             google                  Desktop  \n",
       "1  themeteorchef.com            team  Desktop  \n",
       "2          watsi.org      gift-cards  Desktop  \n",
       "3                                     Desktop  \n",
       "4          watsi.org                  Desktop  "
      ]
     },
     "execution_count": 47,
     "metadata": {},
     "output_type": "execute_result"
    }
   ],
   "source": [
    "data.head(5)"
   ]
  },
  {
   "cell_type": "markdown",
   "metadata": {},
   "source": [
    "See? All better."
   ]
  },
  {
   "cell_type": "markdown",
   "metadata": {
    "collapsed": true
   },
   "source": [
    "Okay, so all is good now, but what the hell are we looking at?\n",
    "\n",
    "### Concerning This Dataset\n",
    "\n",
    "We will be working with web traffic data from a nonprofit group that goes by the moniker [Watsi](watsi.org). Each row corresponds to some person visiting a watsi.org page, a thing called \"pageview.\" The flow of pageviews is known as \"web traffic.\"\n",
    "\n",
    "Each pageview in our data is composed of:\n",
    "\n",
    "- 'referrer' : the URL that referred the user to the site (if available), as in the person arrived via a link on Myspace (that's a thing still, right?), so the 'referrer' would be Myspace (I think that's still a thing).\n",
    "\n",
    "- 'timestamp' : the time the event occurred.\n",
    "\n",
    "- 'title' : the title of the page the user visited on the Watsi website.\n",
    "\n",
    "- 'url' : the URL the user visited.\n",
    "\n",
    "- 'user_agent' : the software the user used to access the site, including platform, browser, and extensions.\n",
    "\n",
    "- 'user_id' : a unique ID for each user (obfiscated to hide the identity of the guilty).\n",
    "\n",
    "- 'referrer_domain' : the domain of the URL that referred the user to the site (i.e.: myspace.com)\n",
    "\n",
    "- 'website_section' : the section of the website visited.\n",
    "\n",
    "- 'platform' : the device platform the user visited from. For instance, 'Desktop,' or 'Mobile.\"\n",
    "\n",
    "### Grab Yourself A Little Context\n",
    "\n",
    "Watsi enables direct funding for medical care throorugh their website. Cool right? Why does this matter? Actually, that *is* why it matters. Consider this fact, what that looks like. Take a look at some of the URLs in the data, visit them, and get comfy with the structure of the site and its content. Google Watsi and see for yourself why folks would want to get involved with them. Context is very important, as it will aid you in making better inferences in your analysis of the data.\n",
    "\n",
    "### Sample the Savory Data\n",
    "\n",
    "Since we are just exoloring the data analysis juju in Python here, it should not be of big concern that the data we have here is 5000 rows large, which is 100 times smaller than the actual dataset of which it is a part. Our little set should be a good enough reresentation of the actual data, or so says the good people over at Mode."
   ]
  },
  {
   "cell_type": "markdown",
   "metadata": {},
   "source": [
    "\n",
    "## Let's Select Columns In A DataFrame!\n",
    "\n",
    "We can use brackets to select values in a list or dictionary, remember?\n",
    "\n",
    "+ places_i_aint_been[0] got the zero-index value in that list\n",
    "\n",
    "+ city_population['Tokyo'] got us the value associated with the key, 'Tokyo,' in the city_population dict.\n",
    "\n",
    "In this fashion, we can use them brackets to select a column in a DataFrame:"
   ]
  },
  {
   "cell_type": "code",
   "execution_count": 48,
   "metadata": {},
   "outputs": [
    {
     "data": {
      "text/plain": [
       "0                                      https://watsi.org/\n",
       "1                  https://watsi.org/team/the-meteor-chef\n",
       "2                            https://watsi.org/gift-cards\n",
       "3                                      https://watsi.org/\n",
       "4                                      https://watsi.org/\n",
       "5                       https://watsi.org/fund-treatments\n",
       "6                                https://watsi.org/redeem\n",
       "7       https://watsi.org/profile/4f0c9b3fb0b1-rasty-noel\n",
       "8                       https://watsi.org/fund-treatments\n",
       "9                                      https://watsi.org/\n",
       "10             https://watsi.org/profile/d87daef43419-eng\n",
       "11            https://watsi.org/profile/a8f5d57946bc-mary\n",
       "12      https://watsi.org/profile/ef9cce891dc4-anibal/...\n",
       "13                        https://watsi.org/growth-round/\n",
       "14                      https://watsi.org/fund-treatments\n",
       "15                   https://watsi.org/donor/aca35c84f099\n",
       "16      https://watsi.org/2015?utm_source=watsi&utm_me...\n",
       "17      http://xiaoxiaozc.cn/web/index_index?path=/web...\n",
       "18          https://watsi.org/profile/fc68a83a1775-dorcas\n",
       "19                                     https://watsi.org/\n",
       "20                                     https://watsi.org/\n",
       "21                   https://watsi.org/donor/1ea420b2576f\n",
       "22                              https://watsi.org/contact\n",
       "23                      https://watsi.org/fund-treatments\n",
       "24            https://watsi.org/profile/de3834249f30-hiru\n",
       "25                                  https://watsi.org/how\n",
       "26         https://watsi.org/profile/bdb7a51d9090-mathias\n",
       "27          https://watsi.org/campaign/jenna-s-birthday-1\n",
       "28      https://watsi.org/welcome/reddit-uplifting-new...\n",
       "29                                     https://watsi.org/\n",
       "                              ...                        \n",
       "4970                     https://watsi.org/universal-fund\n",
       "4971                                https://watsi.org/how\n",
       "4972          https://watsi.org/profile/71a410d0a7a1-yart\n",
       "4973                                   https://watsi.org/\n",
       "4974                                   https://watsi.org/\n",
       "4975                     https://watsi.org/universal-fund\n",
       "4976                    https://watsi.org/fund-treatments\n",
       "4977                    https://watsi.org/fund-treatments\n",
       "4978         https://watsi.org/profile/c195843fed91-glory\n",
       "4979      https://watsi.org/profile/a985f340f200-benedict\n",
       "4980                       https://watsi.org/team/sidwell\n",
       "4981                 https://watsi.org/donor/74d2ecf5ca39\n",
       "4982    https://watsi.org/funds_transfers/tr_7zclouTHZ...\n",
       "4983                                   https://watsi.org/\n",
       "4984                                   https://watsi.org/\n",
       "4985        https://watsi.org/profile/46b4325005c5-julius\n",
       "4986    https://watsi.org/campaign/oscar/donate?utf8=%...\n",
       "4987                                   https://watsi.org/\n",
       "4988                    https://watsi.org/fund-treatments\n",
       "4989          https://watsi.org/profile/22089de0d6a1-john\n",
       "4990         https://watsi.org/profile/012df826a14a-puspa\n",
       "4991                                   https://watsi.org/\n",
       "4992                            https://watsi.org/funders\n",
       "4993    https://watsi.org/profile/a62467987369-nyakaisiki\n",
       "4994    http://blog.watsi.org/linkedin-raised-5k-for-p...\n",
       "4995                    https://watsi.org/fund-treatments\n",
       "4996                                   https://watsi.org/\n",
       "4997                                   https://watsi.org/\n",
       "4998         https://watsi.org/profile/6705ce017f7e-sarah\n",
       "4999             https://watsi.org/fund-treatments?page=4\n",
       "Name: url, Length: 5000, dtype: object"
      ]
     },
     "execution_count": 48,
     "metadata": {},
     "output_type": "execute_result"
    }
   ],
   "source": [
    "data['url']"
   ]
  },
  {
   "cell_type": "markdown",
   "metadata": {},
   "source": [
    "This gives you access to the entire column, but as you can see, it only shows some of the 5000 entries, thankfully. At the bottom of the column, the column name, length, and data type, or dtype. Cool, huh?\n",
    "The 'url' column has a list of numbers on the left, so you have an index to reference the unique rows in the DataFrame. You will use this veru index to select specific rows, the way you slected rows in a list like before. This unique identifier is how you will refer to specific records in the dataset.\n",
    "\n",
    "Selecting columns will be important in much of what we are going to be doing, like in grouping and counting events."
   ]
  },
  {
   "cell_type": "markdown",
   "metadata": {},
   "source": [
    "## Select Rows In That DataFrame\n",
    "\n",
    "Selecting rows is good in data exploration and familiarizing yourself with the values you could see. Check this out, I am about to select the first five rows of our DataFrame:"
   ]
  },
  {
   "cell_type": "code",
   "execution_count": 49,
   "metadata": {},
   "outputs": [
    {
     "data": {
      "text/html": [
       "<div>\n",
       "<style>\n",
       "    .dataframe thead tr:only-child th {\n",
       "        text-align: right;\n",
       "    }\n",
       "\n",
       "    .dataframe thead th {\n",
       "        text-align: left;\n",
       "    }\n",
       "\n",
       "    .dataframe tbody tr th {\n",
       "        vertical-align: top;\n",
       "    }\n",
       "</style>\n",
       "<table border=\"1\" class=\"dataframe\">\n",
       "  <thead>\n",
       "    <tr style=\"text-align: right;\">\n",
       "      <th></th>\n",
       "      <th>referrer</th>\n",
       "      <th>timestamp</th>\n",
       "      <th>title</th>\n",
       "      <th>url</th>\n",
       "      <th>user_agent</th>\n",
       "      <th>user_id</th>\n",
       "      <th>referrer_domain</th>\n",
       "      <th>website_section</th>\n",
       "      <th>platform</th>\n",
       "    </tr>\n",
       "  </thead>\n",
       "  <tbody>\n",
       "    <tr>\n",
       "      <th>0</th>\n",
       "      <td>https://www.google.com/</td>\n",
       "      <td>2016-02-05 00:48:23</td>\n",
       "      <td>Watsi | Fund medical treatments for people aro...</td>\n",
       "      <td>https://watsi.org/</td>\n",
       "      <td>Mozilla/5.0 (Macintosh; Intel Mac OS X 10_10_4...</td>\n",
       "      <td>CHAROLETTE S</td>\n",
       "      <td>google</td>\n",
       "      <td></td>\n",
       "      <td>Desktop</td>\n",
       "    </tr>\n",
       "    <tr>\n",
       "      <th>1</th>\n",
       "      <td>https://themeteorchef.com/snippets/making-use-...</td>\n",
       "      <td>2016-02-24 23:12:10</td>\n",
       "      <td>Watsi | The Meteor Chef</td>\n",
       "      <td>https://watsi.org/team/the-meteor-chef</td>\n",
       "      <td>Mozilla/5.0 (Windows NT 6.1; WOW64) AppleWebKi...</td>\n",
       "      <td>WARREN Q</td>\n",
       "      <td>themeteorchef.com</td>\n",
       "      <td>team</td>\n",
       "      <td>Desktop</td>\n",
       "    </tr>\n",
       "    <tr>\n",
       "      <th>2</th>\n",
       "      <td>https://watsi.org/</td>\n",
       "      <td>2015-12-25 17:59:35</td>\n",
       "      <td>Watsi | Give the gift of health with a Watsi G...</td>\n",
       "      <td>https://watsi.org/gift-cards</td>\n",
       "      <td>Mozilla/5.0 (Macintosh; Intel Mac OS X 10_11_1...</td>\n",
       "      <td>MITCHEL O</td>\n",
       "      <td>watsi.org</td>\n",
       "      <td>gift-cards</td>\n",
       "      <td>Desktop</td>\n",
       "    </tr>\n",
       "    <tr>\n",
       "      <th>3</th>\n",
       "      <td></td>\n",
       "      <td>2016-02-05 21:19:30</td>\n",
       "      <td>Watsi | Fund medical treatments for people aro...</td>\n",
       "      <td>https://watsi.org/</td>\n",
       "      <td>Mozilla/5.0 (Macintosh; Intel Mac OS X 10_11_2...</td>\n",
       "      <td>MICHEL O</td>\n",
       "      <td></td>\n",
       "      <td></td>\n",
       "      <td>Desktop</td>\n",
       "    </tr>\n",
       "    <tr>\n",
       "      <th>4</th>\n",
       "      <td>https://watsi.org/fund-treatments</td>\n",
       "      <td>2016-02-14 19:30:08</td>\n",
       "      <td>Watsi | Fund medical treatments for people aro...</td>\n",
       "      <td>https://watsi.org/</td>\n",
       "      <td>Mozilla/5.0 (Macintosh; Intel Mac OS X 10_10_2...</td>\n",
       "      <td>ANDREE N</td>\n",
       "      <td>watsi.org</td>\n",
       "      <td></td>\n",
       "      <td>Desktop</td>\n",
       "    </tr>\n",
       "  </tbody>\n",
       "</table>\n",
       "</div>"
      ],
      "text/plain": [
       "                                            referrer            timestamp  \\\n",
       "0                            https://www.google.com/  2016-02-05 00:48:23   \n",
       "1  https://themeteorchef.com/snippets/making-use-...  2016-02-24 23:12:10   \n",
       "2                                 https://watsi.org/  2015-12-25 17:59:35   \n",
       "3                                                     2016-02-05 21:19:30   \n",
       "4                  https://watsi.org/fund-treatments  2016-02-14 19:30:08   \n",
       "\n",
       "                                               title  \\\n",
       "0  Watsi | Fund medical treatments for people aro...   \n",
       "1                            Watsi | The Meteor Chef   \n",
       "2  Watsi | Give the gift of health with a Watsi G...   \n",
       "3  Watsi | Fund medical treatments for people aro...   \n",
       "4  Watsi | Fund medical treatments for people aro...   \n",
       "\n",
       "                                      url  \\\n",
       "0                      https://watsi.org/   \n",
       "1  https://watsi.org/team/the-meteor-chef   \n",
       "2            https://watsi.org/gift-cards   \n",
       "3                      https://watsi.org/   \n",
       "4                      https://watsi.org/   \n",
       "\n",
       "                                          user_agent       user_id  \\\n",
       "0  Mozilla/5.0 (Macintosh; Intel Mac OS X 10_10_4...  CHAROLETTE S   \n",
       "1  Mozilla/5.0 (Windows NT 6.1; WOW64) AppleWebKi...      WARREN Q   \n",
       "2  Mozilla/5.0 (Macintosh; Intel Mac OS X 10_11_1...     MITCHEL O   \n",
       "3  Mozilla/5.0 (Macintosh; Intel Mac OS X 10_11_2...      MICHEL O   \n",
       "4  Mozilla/5.0 (Macintosh; Intel Mac OS X 10_10_2...      ANDREE N   \n",
       "\n",
       "     referrer_domain website_section platform  \n",
       "0             google                  Desktop  \n",
       "1  themeteorchef.com            team  Desktop  \n",
       "2          watsi.org      gift-cards  Desktop  \n",
       "3                                     Desktop  \n",
       "4          watsi.org                  Desktop  "
      ]
     },
     "execution_count": 49,
     "metadata": {},
     "output_type": "execute_result"
    }
   ],
   "source": [
    "data[:5]"
   ]
  },
  {
   "cell_type": "markdown",
   "metadata": {},
   "source": [
    "The ':5' arguement is ike saying \"up to 5, yo.\" So, using this knowledge, think about what this means:"
   ]
  },
  {
   "cell_type": "code",
   "execution_count": 50,
   "metadata": {},
   "outputs": [
    {
     "data": {
      "text/html": [
       "<div>\n",
       "<style>\n",
       "    .dataframe thead tr:only-child th {\n",
       "        text-align: right;\n",
       "    }\n",
       "\n",
       "    .dataframe thead th {\n",
       "        text-align: left;\n",
       "    }\n",
       "\n",
       "    .dataframe tbody tr th {\n",
       "        vertical-align: top;\n",
       "    }\n",
       "</style>\n",
       "<table border=\"1\" class=\"dataframe\">\n",
       "  <thead>\n",
       "    <tr style=\"text-align: right;\">\n",
       "      <th></th>\n",
       "      <th>referrer</th>\n",
       "      <th>timestamp</th>\n",
       "      <th>title</th>\n",
       "      <th>url</th>\n",
       "      <th>user_agent</th>\n",
       "      <th>user_id</th>\n",
       "      <th>referrer_domain</th>\n",
       "      <th>website_section</th>\n",
       "      <th>platform</th>\n",
       "    </tr>\n",
       "  </thead>\n",
       "  <tbody>\n",
       "    <tr>\n",
       "      <th>2</th>\n",
       "      <td>https://watsi.org/</td>\n",
       "      <td>2015-12-25 17:59:35</td>\n",
       "      <td>Watsi | Give the gift of health with a Watsi G...</td>\n",
       "      <td>https://watsi.org/gift-cards</td>\n",
       "      <td>Mozilla/5.0 (Macintosh; Intel Mac OS X 10_11_1...</td>\n",
       "      <td>MITCHEL O</td>\n",
       "      <td>watsi.org</td>\n",
       "      <td>gift-cards</td>\n",
       "      <td>Desktop</td>\n",
       "    </tr>\n",
       "    <tr>\n",
       "      <th>3</th>\n",
       "      <td></td>\n",
       "      <td>2016-02-05 21:19:30</td>\n",
       "      <td>Watsi | Fund medical treatments for people aro...</td>\n",
       "      <td>https://watsi.org/</td>\n",
       "      <td>Mozilla/5.0 (Macintosh; Intel Mac OS X 10_11_2...</td>\n",
       "      <td>MICHEL O</td>\n",
       "      <td></td>\n",
       "      <td></td>\n",
       "      <td>Desktop</td>\n",
       "    </tr>\n",
       "    <tr>\n",
       "      <th>4</th>\n",
       "      <td>https://watsi.org/fund-treatments</td>\n",
       "      <td>2016-02-14 19:30:08</td>\n",
       "      <td>Watsi | Fund medical treatments for people aro...</td>\n",
       "      <td>https://watsi.org/</td>\n",
       "      <td>Mozilla/5.0 (Macintosh; Intel Mac OS X 10_10_2...</td>\n",
       "      <td>ANDREE N</td>\n",
       "      <td>watsi.org</td>\n",
       "      <td></td>\n",
       "      <td>Desktop</td>\n",
       "    </tr>\n",
       "    <tr>\n",
       "      <th>5</th>\n",
       "      <td>http://blog.watsi.org/</td>\n",
       "      <td>2015-10-15 06:04:40</td>\n",
       "      <td>Watsi | Fund a medical treatment on Watsi. 100...</td>\n",
       "      <td>https://watsi.org/fund-treatments</td>\n",
       "      <td>Mozilla/5.0 (Macintosh; Intel Mac OS X 10_10_4...</td>\n",
       "      <td>SHAREN Y</td>\n",
       "      <td>watsi.org</td>\n",
       "      <td>fund-treatments</td>\n",
       "      <td>Desktop</td>\n",
       "    </tr>\n",
       "    <tr>\n",
       "      <th>6</th>\n",
       "      <td></td>\n",
       "      <td>2015-12-25 10:23:43</td>\n",
       "      <td>Watsi | Redeem your Watsi Gift Card</td>\n",
       "      <td>https://watsi.org/redeem</td>\n",
       "      <td>Mozilla/5.0 (Windows NT 6.1; WOW64; rv:43.0) G...</td>\n",
       "      <td>BRICE Z</td>\n",
       "      <td></td>\n",
       "      <td>redeem</td>\n",
       "      <td>Desktop</td>\n",
       "    </tr>\n",
       "    <tr>\n",
       "      <th>7</th>\n",
       "      <td>https://watsi.org/team/watsi</td>\n",
       "      <td>2015-11-04 23:09:54</td>\n",
       "      <td>Watsi | Rasty Noel is a four-year-old boy from...</td>\n",
       "      <td>https://watsi.org/profile/4f0c9b3fb0b1-rasty-noel</td>\n",
       "      <td>Mozilla/5.0 (Macintosh; Intel Mac OS X 10_11_1...</td>\n",
       "      <td>TAMICA R</td>\n",
       "      <td>watsi.org</td>\n",
       "      <td>profile</td>\n",
       "      <td>Desktop</td>\n",
       "    </tr>\n",
       "    <tr>\n",
       "      <th>8</th>\n",
       "      <td>https://watsi.org/universal-fund</td>\n",
       "      <td>2015-11-24 18:36:01</td>\n",
       "      <td>Watsi | Fund a medical treatment on Watsi. 100...</td>\n",
       "      <td>https://watsi.org/fund-treatments</td>\n",
       "      <td>Mozilla/5.0 (Macintosh; Intel Mac OS X 10_11_0...</td>\n",
       "      <td>SHELLIE U</td>\n",
       "      <td>watsi.org</td>\n",
       "      <td>fund-treatments</td>\n",
       "      <td>Desktop</td>\n",
       "    </tr>\n",
       "  </tbody>\n",
       "</table>\n",
       "</div>"
      ],
      "text/plain": [
       "                            referrer            timestamp  \\\n",
       "2                 https://watsi.org/  2015-12-25 17:59:35   \n",
       "3                                     2016-02-05 21:19:30   \n",
       "4  https://watsi.org/fund-treatments  2016-02-14 19:30:08   \n",
       "5             http://blog.watsi.org/  2015-10-15 06:04:40   \n",
       "6                                     2015-12-25 10:23:43   \n",
       "7       https://watsi.org/team/watsi  2015-11-04 23:09:54   \n",
       "8   https://watsi.org/universal-fund  2015-11-24 18:36:01   \n",
       "\n",
       "                                               title  \\\n",
       "2  Watsi | Give the gift of health with a Watsi G...   \n",
       "3  Watsi | Fund medical treatments for people aro...   \n",
       "4  Watsi | Fund medical treatments for people aro...   \n",
       "5  Watsi | Fund a medical treatment on Watsi. 100...   \n",
       "6                Watsi | Redeem your Watsi Gift Card   \n",
       "7  Watsi | Rasty Noel is a four-year-old boy from...   \n",
       "8  Watsi | Fund a medical treatment on Watsi. 100...   \n",
       "\n",
       "                                                 url  \\\n",
       "2                       https://watsi.org/gift-cards   \n",
       "3                                 https://watsi.org/   \n",
       "4                                 https://watsi.org/   \n",
       "5                  https://watsi.org/fund-treatments   \n",
       "6                           https://watsi.org/redeem   \n",
       "7  https://watsi.org/profile/4f0c9b3fb0b1-rasty-noel   \n",
       "8                  https://watsi.org/fund-treatments   \n",
       "\n",
       "                                          user_agent    user_id  \\\n",
       "2  Mozilla/5.0 (Macintosh; Intel Mac OS X 10_11_1...  MITCHEL O   \n",
       "3  Mozilla/5.0 (Macintosh; Intel Mac OS X 10_11_2...   MICHEL O   \n",
       "4  Mozilla/5.0 (Macintosh; Intel Mac OS X 10_10_2...   ANDREE N   \n",
       "5  Mozilla/5.0 (Macintosh; Intel Mac OS X 10_10_4...   SHAREN Y   \n",
       "6  Mozilla/5.0 (Windows NT 6.1; WOW64; rv:43.0) G...    BRICE Z   \n",
       "7  Mozilla/5.0 (Macintosh; Intel Mac OS X 10_11_1...   TAMICA R   \n",
       "8  Mozilla/5.0 (Macintosh; Intel Mac OS X 10_11_0...  SHELLIE U   \n",
       "\n",
       "  referrer_domain  website_section platform  \n",
       "2       watsi.org       gift-cards  Desktop  \n",
       "3                                   Desktop  \n",
       "4       watsi.org                   Desktop  \n",
       "5       watsi.org  fund-treatments  Desktop  \n",
       "6                           redeem  Desktop  \n",
       "7       watsi.org          profile  Desktop  \n",
       "8       watsi.org  fund-treatments  Desktop  "
      ]
     },
     "execution_count": 50,
     "metadata": {},
     "output_type": "execute_result"
    }
   ],
   "source": [
    "data[2:9]"
   ]
  },
  {
   "cell_type": "markdown",
   "metadata": {},
   "source": [
    "Now, check this, yo:"
   ]
  },
  {
   "cell_type": "code",
   "execution_count": 51,
   "metadata": {},
   "outputs": [
    {
     "data": {
      "text/html": [
       "<div>\n",
       "<style>\n",
       "    .dataframe thead tr:only-child th {\n",
       "        text-align: right;\n",
       "    }\n",
       "\n",
       "    .dataframe thead th {\n",
       "        text-align: left;\n",
       "    }\n",
       "\n",
       "    .dataframe tbody tr th {\n",
       "        vertical-align: top;\n",
       "    }\n",
       "</style>\n",
       "<table border=\"1\" class=\"dataframe\">\n",
       "  <thead>\n",
       "    <tr style=\"text-align: right;\">\n",
       "      <th></th>\n",
       "      <th>referrer</th>\n",
       "      <th>timestamp</th>\n",
       "      <th>title</th>\n",
       "      <th>url</th>\n",
       "      <th>user_agent</th>\n",
       "      <th>user_id</th>\n",
       "      <th>referrer_domain</th>\n",
       "      <th>website_section</th>\n",
       "      <th>platform</th>\n",
       "    </tr>\n",
       "  </thead>\n",
       "  <tbody>\n",
       "    <tr>\n",
       "      <th>4995</th>\n",
       "      <td>https://watsi.org/</td>\n",
       "      <td>2015-11-02 22:23:31</td>\n",
       "      <td>Watsi | Fund a medical treatment on Watsi. 100...</td>\n",
       "      <td>https://watsi.org/fund-treatments</td>\n",
       "      <td>Mozilla/5.0 (Macintosh; Intel Mac OS X 10_10_3...</td>\n",
       "      <td>MADONNA Z</td>\n",
       "      <td>watsi.org</td>\n",
       "      <td>fund-treatments</td>\n",
       "      <td>Desktop</td>\n",
       "    </tr>\n",
       "    <tr>\n",
       "      <th>4996</th>\n",
       "      <td></td>\n",
       "      <td>2015-12-16 01:35:34</td>\n",
       "      <td>Watsi | Fund medical treatments for people aro...</td>\n",
       "      <td>https://watsi.org/</td>\n",
       "      <td>Mozilla/5.0 (Macintosh; Intel Mac OS X 10_11_1...</td>\n",
       "      <td>ADAM W</td>\n",
       "      <td></td>\n",
       "      <td></td>\n",
       "      <td>Desktop</td>\n",
       "    </tr>\n",
       "    <tr>\n",
       "      <th>4997</th>\n",
       "      <td>http://aplus.com/a/kid-has-flexible-neck?c=654...</td>\n",
       "      <td>2016-01-03 02:48:38</td>\n",
       "      <td>Watsi | Fund medical treatments for people aro...</td>\n",
       "      <td>https://watsi.org/</td>\n",
       "      <td>Mozilla/5.0 (iPhone; CPU iPhone OS 7_0_4 like ...</td>\n",
       "      <td>NOELLE P</td>\n",
       "      <td>aplus.com</td>\n",
       "      <td></td>\n",
       "      <td>iPhone</td>\n",
       "    </tr>\n",
       "    <tr>\n",
       "      <th>4998</th>\n",
       "      <td>https://watsi.org/fund-treatments?page=2</td>\n",
       "      <td>2016-02-07 23:47:53</td>\n",
       "      <td>Watsi | Success! Sarah from Kenya raised $1,12...</td>\n",
       "      <td>https://watsi.org/profile/6705ce017f7e-sarah</td>\n",
       "      <td>Mozilla/5.0 (iPad; CPU OS 9_2 like Mac OS X) A...</td>\n",
       "      <td>JERICA F</td>\n",
       "      <td>watsi.org</td>\n",
       "      <td>profile</td>\n",
       "      <td>iPad</td>\n",
       "    </tr>\n",
       "    <tr>\n",
       "      <th>4999</th>\n",
       "      <td>https://watsi.org/</td>\n",
       "      <td>2015-11-17 16:38:25</td>\n",
       "      <td>Watsi | Fund a medical treatment on Watsi. 100...</td>\n",
       "      <td>https://watsi.org/fund-treatments?page=4</td>\n",
       "      <td>Mozilla/5.0 (Macintosh; Intel Mac OS X 10_10_5...</td>\n",
       "      <td>MARIANNA I</td>\n",
       "      <td>watsi.org</td>\n",
       "      <td>fund-treatments</td>\n",
       "      <td>Desktop</td>\n",
       "    </tr>\n",
       "  </tbody>\n",
       "</table>\n",
       "</div>"
      ],
      "text/plain": [
       "                                               referrer            timestamp  \\\n",
       "4995                                 https://watsi.org/  2015-11-02 22:23:31   \n",
       "4996                                                     2015-12-16 01:35:34   \n",
       "4997  http://aplus.com/a/kid-has-flexible-neck?c=654...  2016-01-03 02:48:38   \n",
       "4998           https://watsi.org/fund-treatments?page=2  2016-02-07 23:47:53   \n",
       "4999                                 https://watsi.org/  2015-11-17 16:38:25   \n",
       "\n",
       "                                                  title  \\\n",
       "4995  Watsi | Fund a medical treatment on Watsi. 100...   \n",
       "4996  Watsi | Fund medical treatments for people aro...   \n",
       "4997  Watsi | Fund medical treatments for people aro...   \n",
       "4998  Watsi | Success! Sarah from Kenya raised $1,12...   \n",
       "4999  Watsi | Fund a medical treatment on Watsi. 100...   \n",
       "\n",
       "                                               url  \\\n",
       "4995             https://watsi.org/fund-treatments   \n",
       "4996                            https://watsi.org/   \n",
       "4997                            https://watsi.org/   \n",
       "4998  https://watsi.org/profile/6705ce017f7e-sarah   \n",
       "4999      https://watsi.org/fund-treatments?page=4   \n",
       "\n",
       "                                             user_agent     user_id  \\\n",
       "4995  Mozilla/5.0 (Macintosh; Intel Mac OS X 10_10_3...   MADONNA Z   \n",
       "4996  Mozilla/5.0 (Macintosh; Intel Mac OS X 10_11_1...      ADAM W   \n",
       "4997  Mozilla/5.0 (iPhone; CPU iPhone OS 7_0_4 like ...    NOELLE P   \n",
       "4998  Mozilla/5.0 (iPad; CPU OS 9_2 like Mac OS X) A...    JERICA F   \n",
       "4999  Mozilla/5.0 (Macintosh; Intel Mac OS X 10_10_5...  MARIANNA I   \n",
       "\n",
       "     referrer_domain  website_section platform  \n",
       "4995       watsi.org  fund-treatments  Desktop  \n",
       "4996                                   Desktop  \n",
       "4997       aplus.com                    iPhone  \n",
       "4998       watsi.org          profile     iPad  \n",
       "4999       watsi.org  fund-treatments  Desktop  "
      ]
     },
     "execution_count": 51,
     "metadata": {},
     "output_type": "execute_result"
    }
   ],
   "source": [
    "data[4995:]"
   ]
  },
  {
   "cell_type": "markdown",
   "metadata": {},
   "source": [
    "### Selecting That Special Row...\n",
    "\n",
    "The .loc, or even the .iloc, method will get us a specific row, with the index in the brackets:"
   ]
  },
  {
   "cell_type": "code",
   "execution_count": 52,
   "metadata": {},
   "outputs": [
    {
     "data": {
      "text/plain": [
       "referrer                                https://watsi.org/team/watsi\n",
       "timestamp                                        2015-11-04 23:09:54\n",
       "title              Watsi | Rasty Noel is a four-year-old boy from...\n",
       "url                https://watsi.org/profile/4f0c9b3fb0b1-rasty-noel\n",
       "user_agent         Mozilla/5.0 (Macintosh; Intel Mac OS X 10_11_1...\n",
       "user_id                                                     TAMICA R\n",
       "referrer_domain                                            watsi.org\n",
       "website_section                                              profile\n",
       "platform                                                     Desktop\n",
       "Name: 7, dtype: object"
      ]
     },
     "execution_count": 52,
     "metadata": {},
     "output_type": "execute_result"
    }
   ],
   "source": [
    "data.loc[7]"
   ]
  },
  {
   "cell_type": "code",
   "execution_count": 53,
   "metadata": {},
   "outputs": [
    {
     "data": {
      "text/plain": [
       "referrer                                https://watsi.org/team/watsi\n",
       "timestamp                                        2015-11-04 23:09:54\n",
       "title              Watsi | Rasty Noel is a four-year-old boy from...\n",
       "url                https://watsi.org/profile/4f0c9b3fb0b1-rasty-noel\n",
       "user_agent         Mozilla/5.0 (Macintosh; Intel Mac OS X 10_11_1...\n",
       "user_id                                                     TAMICA R\n",
       "referrer_domain                                            watsi.org\n",
       "website_section                                              profile\n",
       "platform                                                     Desktop\n",
       "Name: 7, dtype: object"
      ]
     },
     "execution_count": 53,
     "metadata": {},
     "output_type": "execute_result"
    }
   ],
   "source": [
    "data.iloc[7]"
   ]
  },
  {
   "cell_type": "markdown",
   "metadata": {},
   "source": [
    "## Now We Select Rows And Columns!\n",
    "\n",
    "I won't bore you with details, jsut combine the two independent approaches:"
   ]
  },
  {
   "cell_type": "code",
   "execution_count": 54,
   "metadata": {},
   "outputs": [
    {
     "data": {
      "text/plain": [
       "0                        https://watsi.org/\n",
       "1    https://watsi.org/team/the-meteor-chef\n",
       "2              https://watsi.org/gift-cards\n",
       "3                        https://watsi.org/\n",
       "4                        https://watsi.org/\n",
       "Name: url, dtype: object"
      ]
     },
     "execution_count": 54,
     "metadata": {},
     "output_type": "execute_result"
    }
   ],
   "source": [
    "data['url'][:5]"
   ]
  },
  {
   "cell_type": "markdown",
   "metadata": {},
   "source": [
    "I know, right! What's really cool is that they arguments can be flipped and you get the same result:"
   ]
  },
  {
   "cell_type": "code",
   "execution_count": 55,
   "metadata": {},
   "outputs": [
    {
     "data": {
      "text/plain": [
       "0                        https://watsi.org/\n",
       "1    https://watsi.org/team/the-meteor-chef\n",
       "2              https://watsi.org/gift-cards\n",
       "3                        https://watsi.org/\n",
       "4                        https://watsi.org/\n",
       "Name: url, dtype: object"
      ]
     },
     "execution_count": 55,
     "metadata": {},
     "output_type": "execute_result"
    }
   ],
   "source": [
    "data[:5]['url']"
   ]
  },
  {
   "cell_type": "markdown",
   "metadata": {
    "collapsed": true
   },
   "source": [
    "# Counting Stuff and Some Plotting:\n",
    "# (Not Scheming)\n",
    "\n",
    "Here, we are going to explore using Python to count occurences and plot basic bar charts with the .plot() method. We will do this, continuing on with our web traffic data, in our handy-dandy DataFrame, to analyze and visualize our data.\n",
    "\n",
    "Let's get our poop in a group!\n",
    "\n",
    "## \"Do you know the street vaue if this stuff?\"\n",
    "\n",
    "Understanding the value if what we are doing is significant in performing the analysis we are doing. Why? Good question! It's because the knowledge for a business with respect to web traffic is very valuable. Web analytics is an entire practice of it own and is focussed on improving a company's web traffic and visitor enegagement by looking into what people are looking at and how they view the website.\n",
    "\n",
    "The primary goals of web analytics, in general, are:\n",
    "\n",
    "1. To find and monitor trends, such the ratio of mobile pageviews to desktop pageviews\n",
    "2. To find and monitor outliers, such as significant traffic from one referrer\n",
    "\n",
    "3. To measure change over time of metrics (set by the company) such as the rate of inbound traffic from direct email campaigns\n",
    "\n",
    "And this, my friends, is the scent of blood, we hungry wolves are hunting in the forest we call our data. If the data goddess deemsyou worthy enough to become thrust into to role of a data analyst, or data scientist, you may very well be respinsible for performing these very analyses on your company's web traffic data. Your findings could inform decisions, like where emphasis and resources should be placed on ads, when to send out the next email campaign, and and what blog post should be published.\n",
    "\n",
    "## Use .value_counts() To... Count Values\n",
    "\n",
    "In the recent past we grabbed rows and coluns, but now we want to know how many times some particluar value appears in the same column. Counting is often as quick way to begin formulating hypothises (what you do at the beginnning of almost all analyses).\n",
    "\n",
    "Categorical columns (e.g.: title, referrer_domain, website_section, etc.) you can aggregate the number of times each value occured with .value_counts(). Though this will work for columns containing numerical values, there are way handier tools for that job. We'll get there soon.\n",
    "\n",
    "You know what? I am interested in seeing how many times each Watsi page was viewed. Hell, I'd even like to know what the titles of those pahes are. Yeah. Let's do that. I'll want to grab the title column with data['title'], and then count the number of times each of these values occurs. To test this out, I will start with just the top 50 rows. Holy moly, I am so excited!\n",
    "\n",
    "\n"
   ]
  },
  {
   "cell_type": "code",
   "execution_count": 57,
   "metadata": {},
   "outputs": [
    {
     "data": {
      "text/plain": [
       "Watsi | Fund medical treatments for people around the world                                                                          1268\n",
       "Watsi | Fund a medical treatment on Watsi. 100% of your donation directly funds a medical treatment.                                  606\n",
       "Watsi | About Us                                                                                                                      276\n",
       "Watsi | Join Watsi's Universal Fund                                                                                                   151\n",
       "Watsi | How Watsi works                                                                                                                93\n",
       "Watsi | Reddit Uplifting News                                                                                                          61\n",
       "Watsi | From Burma to the Bay Area and beyond: Inside a year of health at Watsi                                                        55\n",
       "Watsi | Give the gift of health with a Watsi Gift Card                                                                                 52\n",
       "Watsi | Donor Settings                                                                                                                 41\n",
       "Watsi | Pledge your birthday on Watsi                                                                                                  32\n",
       "Watsi | Chase's 29th Birthday                                                                                                          32\n",
       "Watsi | Frequently Asked Questions                                                                                                     32\n",
       "Watsi                                                                                                                                  32\n",
       "The surprising role of Netflix in global health                                                                                        30\n",
       "Watsi | Start a chain of connections on Watsi                                                                                          30\n",
       "Watsi | Contact Us                                                                                                                     27\n",
       "Saying yes                                                                                                                             25\n",
       "Watsi | Our Funders                                                                                                                    20\n",
       "The Toast That Traveled 3,000 Miles                                                                                                    17\n",
       "Meet Chase!                                                                                                                            16\n",
       "Watsi | Success! Mary from Kenya raised $1,260 to remove a life-threatening brain tumor.                                               15\n",
       "Watsi | Hasnain's 29th Birthday                                                                                                        15\n",
       "Watsi | Redeem your Watsi Gift Card                                                                                                    15\n",
       "Watsi | Join the Universal Fund                                                                                                        13\n",
       "Watsi | Success! Ma Hla from Thailand raised $1,500 to treat painful uterine fibroids.                                                 13\n",
       "Watsi | Pledge your birthday                                                                                                           12\n",
       "Watsi | Buy a Watsi Gift Card                                                                                                          12\n",
       "What hospital food around the world really looks like                                                                                  12\n",
       "Meet Grace!                                                                                                                            12\n",
       "Watsi is hiring a full-stack engineer                                                                                                  11\n",
       "Watsi | Terms of Use                                                                                                                   10\n",
       "Watsi | Bo's Birthday and Christmas Campaign                                                                                           10\n",
       "Watsi | Suzanne's 22nd Birthday!                                                                                                       10\n",
       "Watsi | Oscar's 25th Birthday                                                                                                           9\n",
       "Watsi | Success! Juan from Guatemala raised $535 to treat acute malnutrition.                                                           9\n",
       "Watsi | Grace's 26th Birthday                                                                                                           9\n",
       "Watsi | Partner: Wuqu? Kawoq                                                                                                            9\n",
       "Watsi | The Meteor Chef                                                                                                                 8\n",
       "Watsi | Scott's profile                                                                                                                 8\n",
       "Watsi | Katya's 23rd Birthday                                                                                                           8\n",
       "Help Donate for education to help poor children Story | 1Dollar1Home | Online fundraising for individuals and families in Crisis.       8\n",
       "Watsi | Success! Mukose from Uganda raised $220 to treat an inguinal scrotal hernia.                                                    8\n",
       "Meet Byron!                                                                                                                             8\n",
       "Watsi | Patrick is a caretaker from Kenya who needs $1,410 to fix multiple arm fractures.                                               7\n",
       "Watsi | Join us in providing life-changing healthcare                                                                                   7\n",
       "Watsi | Success! Pheakdey from Cambodia raised $150 to restore his vision.                                                              7\n",
       "Watsi | Quakers Fighting Cancer                                                                                                         7\n",
       "Watsi | Jessica's Birthday                                                                                                              7\n",
       "Watsi | In Honor of the Great Meirav                                                                                                    7\n",
       "Meet Katya!                                                                                                                             7\n",
       "Name: title, dtype: int64"
      ]
     },
     "execution_count": 57,
     "metadata": {},
     "output_type": "execute_result"
    }
   ],
   "source": [
    "data['title'].value_counts()[:50]"
   ]
  },
  {
   "cell_type": "markdown",
   "metadata": {},
   "source": [
    "Sweet! You know counting is a pretty common thing SQL operation. In fact, what we just did in one line, using Python, looks like this in SQL:"
   ]
  },
  {
   "cell_type": "code",
   "execution_count": 59,
   "metadata": {},
   "outputs": [
    {
     "data": {
      "text/plain": [
       "' double quotes used to keep this from executing\\nSELECT title, COUNT(*) as cnt\\n    FROM tutorial.watsi_events\\n    GROUP BY title\\n    ORDER BY cnt DESC\\n    LIMIT 50\\n'"
      ]
     },
     "execution_count": 59,
     "metadata": {},
     "output_type": "execute_result"
    }
   ],
   "source": [
    "\"\"\" double quotes used to keep this from executing\n",
    "SELECT title, COUNT(*) as cnt\n",
    "    FROM tutorial.watsi_events\n",
    "    GROUP BY title\n",
    "    ORDER BY cnt DESC\n",
    "    LIMIT 50\n",
    "\"\"\""
   ]
  },
  {
   "cell_type": "markdown",
   "metadata": {},
   "source": [
    "## Execution of Code in Python And Objects\n",
    "\n",
    "Let's break this line down. The one above the SQL code, of course.\n",
    "\n",
    "Left-to-right:\n",
    "\n",
    "1. data.['title'] selects the \"title\" column, resulting in a Series.\n",
    "\n",
    "2. .value_counts() counts the values in the \"title\" Series, resulting in a new Series, where the index is the \"title\" and the values are how often each occuredred. The series is ordered in descending order from most frequently occurring tile. Pretty cool, right?\n",
    "\n",
    "3. [:50] selects only the first 50 most frequent occurring titles from the last Series, created by .value_counts(). What do you think this results? Yep, a Series. This time, it's the one that gets displayed.\n",
    "\n",
    "Rremember how everything is an object in Python? So, each steps resulted in an object: Series. Pythin, like many other languages, allowed us to handle them in a single, statement-combined line, instead of requiring a new line of commands. But for the sake of learning,let's do just that:"
   ]
  },
  {
   "cell_type": "code",
   "execution_count": 60,
   "metadata": {},
   "outputs": [
    {
     "data": {
      "text/plain": [
       "0       Watsi | Fund medical treatments for people aro...\n",
       "1                                 Watsi | The Meteor Chef\n",
       "2       Watsi | Give the gift of health with a Watsi G...\n",
       "3       Watsi | Fund medical treatments for people aro...\n",
       "4       Watsi | Fund medical treatments for people aro...\n",
       "5       Watsi | Fund a medical treatment on Watsi. 100...\n",
       "6                     Watsi | Redeem your Watsi Gift Card\n",
       "7       Watsi | Rasty Noel is a four-year-old boy from...\n",
       "8       Watsi | Fund a medical treatment on Watsi. 100...\n",
       "9       Watsi | Fund medical treatments for people aro...\n",
       "10      Watsi | Success! Eng from Cambodia raised $150...\n",
       "11      Watsi | Success! Mary from Kenya raised $1,260...\n",
       "12      Watsi | Anibal is a baby boy from Guatemala wh...\n",
       "13                                 Watsi | Page Not Found\n",
       "14      Watsi | Fund a medical treatment on Watsi. 100...\n",
       "15                                 Watsi | sasi's profile\n",
       "16      Watsi | From Burma to the Bay Area and beyond:...\n",
       "17                                                       \n",
       "18      Watsi | Success! Dorcas from Kenya raised $1,2...\n",
       "19      Watsi | Fund medical treatments for people aro...\n",
       "20      Watsi | Fund medical treatments for people aro...\n",
       "21                                 Watsi | Neil's profile\n",
       "22                                     Watsi | Contact Us\n",
       "23      Watsi | Fund a medical treatment on Watsi. 100...\n",
       "24      Watsi | Hiru is a six-year-old boy from Nepal ...\n",
       "25                                Watsi | How Watsi works\n",
       "26      Watsi | Success! Mathias from Kenya raised $1,...\n",
       "27                               Watsi | Jenna's Birthday\n",
       "28                          Watsi | Reddit Uplifting News\n",
       "29      Watsi | Fund medical treatments for people aro...\n",
       "                              ...                        \n",
       "4970                  Watsi | Join Watsi's Universal Fund\n",
       "4971                              Watsi | How Watsi works\n",
       "4972    Watsi | Success! Yart from Cambodia raised $22...\n",
       "4973    Watsi | Fund medical treatments for people aro...\n",
       "4974    Watsi | Fund medical treatments for people aro...\n",
       "4975                  Watsi | Join Watsi's Universal Fund\n",
       "4976    Watsi | Fund a medical treatment on Watsi. 100...\n",
       "4977    Watsi | Fund a medical treatment on Watsi. 100...\n",
       "4978    Watsi | Success! Glory from Tanzania raised $1...\n",
       "4979    Watsi | Benedict is a student from Kenya who n...\n",
       "4980                      Watsi | Quakers Fighting Cancer\n",
       "4981                            Watsi | CAMERON's profile\n",
       "4982                       Watsi | Funds Transfer for Kak\n",
       "4983    Watsi | Fund medical treatments for people aro...\n",
       "4984    Watsi | Fund medical treatments for people aro...\n",
       "4985    Watsi | Julius is a high school student from K...\n",
       "4986              Watsi | Donate to Oscar's 25th Birthday\n",
       "4987    Watsi | Fund medical treatments for people aro...\n",
       "4988    Watsi | Fund a medical treatment on Watsi. 100...\n",
       "4989    Watsi | John is a construction worker from Ken...\n",
       "4990    Watsi | Puspa is a farmer from Nepal who needs...\n",
       "4991    Watsi | Fund medical treatments for people aro...\n",
       "4992                                  Watsi | Our Funders\n",
       "4993    Watsi | Nyakaisiki is a single mother from Uga...\n",
       "4994                    LinkedIn raised $5k for patients!\n",
       "4995    Watsi | Fund a medical treatment on Watsi. 100...\n",
       "4996    Watsi | Fund medical treatments for people aro...\n",
       "4997    Watsi | Fund medical treatments for people aro...\n",
       "4998    Watsi | Success! Sarah from Kenya raised $1,12...\n",
       "4999    Watsi | Fund a medical treatment on Watsi. 100...\n",
       "Name: title, Length: 5000, dtype: object"
      ]
     },
     "execution_count": 60,
     "metadata": {},
     "output_type": "execute_result"
    }
   ],
   "source": [
    "# step 1\n",
    "data['title']"
   ]
  },
  {
   "cell_type": "code",
   "execution_count": 61,
   "metadata": {},
   "outputs": [
    {
     "data": {
      "text/plain": [
       "Watsi | Fund medical treatments for people around the world                                                  1268\n",
       "Watsi | Fund a medical treatment on Watsi. 100% of your donation directly funds a medical treatment.          606\n",
       "Watsi | About Us                                                                                              276\n",
       "Watsi | Join Watsi's Universal Fund                                                                           151\n",
       "Watsi | How Watsi works                                                                                        93\n",
       "Watsi | Reddit Uplifting News                                                                                  61\n",
       "Watsi | From Burma to the Bay Area and beyond: Inside a year of health at Watsi                                55\n",
       "Watsi | Give the gift of health with a Watsi Gift Card                                                         52\n",
       "Watsi | Donor Settings                                                                                         41\n",
       "Watsi | Pledge your birthday on Watsi                                                                          32\n",
       "Watsi | Chase's 29th Birthday                                                                                  32\n",
       "Watsi | Frequently Asked Questions                                                                             32\n",
       "Watsi                                                                                                          32\n",
       "The surprising role of Netflix in global health                                                                30\n",
       "Watsi | Start a chain of connections on Watsi                                                                  30\n",
       "Watsi | Contact Us                                                                                             27\n",
       "Saying yes                                                                                                     25\n",
       "Watsi | Our Funders                                                                                            20\n",
       "The Toast That Traveled 3,000 Miles                                                                            17\n",
       "Meet Chase!                                                                                                    16\n",
       "Watsi | Success! Mary from Kenya raised $1,260 to remove a life-threatening brain tumor.                       15\n",
       "Watsi | Hasnain's 29th Birthday                                                                                15\n",
       "Watsi | Redeem your Watsi Gift Card                                                                            15\n",
       "Watsi | Join the Universal Fund                                                                                13\n",
       "Watsi | Success! Ma Hla from Thailand raised $1,500 to treat painful uterine fibroids.                         13\n",
       "Watsi | Pledge your birthday                                                                                   12\n",
       "Watsi | Buy a Watsi Gift Card                                                                                  12\n",
       "What hospital food around the world really looks like                                                          12\n",
       "Meet Grace!                                                                                                    12\n",
       "Watsi is hiring a full-stack engineer                                                                          11\n",
       "                                                                                                             ... \n",
       "Watsi | Success! Jennifer from Kenya raised $790 to treat uterine fibroids.                                     1\n",
       "Watsi | Watsi OGs                                                                                               1\n",
       "Watsi | Jeff is a student from Haiti who needs $1,500 for life-saving heart surgery.                            1\n",
       "Watsi | Success! Kem from Cambodia raised $150 for cataract surgery to restore her sight.                       1\n",
       "Watsi | Success! Hannah from Kenya raised $790 to treat painful uterine fibroids.                               1\n",
       "Watsi | Success! Koureth from Cambodia raised $150 to remove cataracts from both eyes.                          1\n",
       "Watsi | Success! Sokhom from Cambodia raised $405 to treat a broken femur.                                      1\n",
       "Watsi | Alejandro is a teenage boy from Guatemala who needs $1,252 to receive a prosthetic leg.                 1\n",
       "Watsi | Success! Ry from Cambodia raised $225 for cataract surgery.                                             1\n",
       "Watsi | Missy's profile                                                                                         1\n",
       "Watsi | Success! Eric from Tanzania raised $940 for surgery to repair bilateral genu valgus.                    1\n",
       "Watsi | Balihabuka is an aspiring doctor from Uganda who needs $215 to treat scrotal pain and swelling.         1\n",
       "Watsi | Success! Claudia from Guatemala raised $535 so she can overcome malnutrition and grow up healthy.       1\n",
       "Meet our remote profile editors!                                                                                1\n",
       "Watsi | Success! Ei Nandar Htun from Burma raised $1,500 to alleviate her chest pain.                           1\n",
       "Watsi | Mackilin is a baby girl from Uganda who needs $375 to treat acute malnutrition.                         1\n",
       "Watsi | Rin is a grandmother from Cambodia who needs $99 to remove a painful facial growth.                     1\n",
       "Watsi | Success! Emiliana from Guatemala raised $300 to control her diabetes.                                   1\n",
       "Watsi | Juan is a baby boy from Guatemala who needs $512 to treat acute malnutrition.                           1\n",
       "Watsi | Success! Rahila from Nigeria raised $1,500 to safely deliver her baby.                                  1\n",
       "Watsi | Kem is a grandmother from Cambodia who needs $150 for cataract surgery to restore her sight.            1\n",
       "We're opening up our data!                                                                                      1\n",
       "Watsi | Success! Cornellius from Kenya raised $615 for life-saving brain surgery.                               1\n",
       "Watsi | Success! Bunneng from Cambodia raised $392 for surgery to stabilize his right knee.                     1\n",
       "Watsi | Success! Dennis from Kenya raised $540 to boost his self-esteem.                                        1\n",
       "Watsi | Success! Neiyeyo from Tanzania raised $550 to release a burn contracture.                               1\n",
       "Watsi | Savi is a young man from Cambodia who needs $399 to treat a painful ear condition.                      1\n",
       "Watsi | Amna's profile                                                                                          1\n",
       "Watsi | Shiraf is a little boy from Tanzania who needs $1,160 to help him walk properly.                        1\n",
       "Watsi | Success! Nancy from Kenya raised $805 to treat spina bifida.                                            1\n",
       "Name: title, Length: 1204, dtype: int64"
      ]
     },
     "execution_count": 61,
     "metadata": {},
     "output_type": "execute_result"
    }
   ],
   "source": [
    "# step 2\n",
    "data['title'].value_counts()"
   ]
  },
  {
   "cell_type": "code",
   "execution_count": 62,
   "metadata": {},
   "outputs": [
    {
     "data": {
      "text/plain": [
       "Watsi | Fund medical treatments for people around the world                                                                          1268\n",
       "Watsi | Fund a medical treatment on Watsi. 100% of your donation directly funds a medical treatment.                                  606\n",
       "Watsi | About Us                                                                                                                      276\n",
       "Watsi | Join Watsi's Universal Fund                                                                                                   151\n",
       "Watsi | How Watsi works                                                                                                                93\n",
       "Watsi | Reddit Uplifting News                                                                                                          61\n",
       "Watsi | From Burma to the Bay Area and beyond: Inside a year of health at Watsi                                                        55\n",
       "Watsi | Give the gift of health with a Watsi Gift Card                                                                                 52\n",
       "Watsi | Donor Settings                                                                                                                 41\n",
       "Watsi | Pledge your birthday on Watsi                                                                                                  32\n",
       "Watsi | Chase's 29th Birthday                                                                                                          32\n",
       "Watsi | Frequently Asked Questions                                                                                                     32\n",
       "Watsi                                                                                                                                  32\n",
       "The surprising role of Netflix in global health                                                                                        30\n",
       "Watsi | Start a chain of connections on Watsi                                                                                          30\n",
       "Watsi | Contact Us                                                                                                                     27\n",
       "Saying yes                                                                                                                             25\n",
       "Watsi | Our Funders                                                                                                                    20\n",
       "The Toast That Traveled 3,000 Miles                                                                                                    17\n",
       "Meet Chase!                                                                                                                            16\n",
       "Watsi | Success! Mary from Kenya raised $1,260 to remove a life-threatening brain tumor.                                               15\n",
       "Watsi | Hasnain's 29th Birthday                                                                                                        15\n",
       "Watsi | Redeem your Watsi Gift Card                                                                                                    15\n",
       "Watsi | Join the Universal Fund                                                                                                        13\n",
       "Watsi | Success! Ma Hla from Thailand raised $1,500 to treat painful uterine fibroids.                                                 13\n",
       "Watsi | Pledge your birthday                                                                                                           12\n",
       "Watsi | Buy a Watsi Gift Card                                                                                                          12\n",
       "What hospital food around the world really looks like                                                                                  12\n",
       "Meet Grace!                                                                                                                            12\n",
       "Watsi is hiring a full-stack engineer                                                                                                  11\n",
       "Watsi | Terms of Use                                                                                                                   10\n",
       "Watsi | Bo's Birthday and Christmas Campaign                                                                                           10\n",
       "Watsi | Suzanne's 22nd Birthday!                                                                                                       10\n",
       "Watsi | Oscar's 25th Birthday                                                                                                           9\n",
       "Watsi | Success! Juan from Guatemala raised $535 to treat acute malnutrition.                                                           9\n",
       "Watsi | Grace's 26th Birthday                                                                                                           9\n",
       "Watsi | Partner: Wuqu? Kawoq                                                                                                            9\n",
       "Watsi | The Meteor Chef                                                                                                                 8\n",
       "Watsi | Scott's profile                                                                                                                 8\n",
       "Watsi | Katya's 23rd Birthday                                                                                                           8\n",
       "Help Donate for education to help poor children Story | 1Dollar1Home | Online fundraising for individuals and families in Crisis.       8\n",
       "Watsi | Success! Mukose from Uganda raised $220 to treat an inguinal scrotal hernia.                                                    8\n",
       "Meet Byron!                                                                                                                             8\n",
       "Watsi | Patrick is a caretaker from Kenya who needs $1,410 to fix multiple arm fractures.                                               7\n",
       "Watsi | Join us in providing life-changing healthcare                                                                                   7\n",
       "Watsi | Success! Pheakdey from Cambodia raised $150 to restore his vision.                                                              7\n",
       "Watsi | Quakers Fighting Cancer                                                                                                         7\n",
       "Watsi | Jessica's Birthday                                                                                                              7\n",
       "Watsi | In Honor of the Great Meirav                                                                                                    7\n",
       "Meet Katya!                                                                                                                             7\n",
       "Name: title, dtype: int64"
      ]
     },
     "execution_count": 62,
     "metadata": {},
     "output_type": "execute_result"
    }
   ],
   "source": [
    "# step 3\n",
    "data['title'].value_counts()[:50]"
   ]
  },
  {
   "cell_type": "markdown",
   "metadata": {},
   "source": [
    "## Reruns: Or Rerunning Cells\n",
    "\n",
    "As we begin to build more complicated, and/or sophisticated, operations, it may be useful to build in this step-by-step fashion (until we get good at it, and there is no further value in doing so). Start with the first statement, build on it it, one method (or funtion) at a time. Each time you do this, you are presented with two options:\n",
    "\n",
    "1. add anew cell for every step\n",
    "\n",
    "2. add to the same cell and re-run it to inspect the output\n",
    "\n",
    "Each is fine, and we'll leave it to preference. While we're learning, its good to run a cell and rerun it until we see what we're gunning for. "
   ]
  },
  {
   "cell_type": "markdown",
   "metadata": {},
   "source": [
    "## Let's get Visual\n",
    "\n",
    "Visualizing data is another important issue in Data Science. in fact, many believe this is one of the most important issues, as not everyone who will be counting on your analysis will understand, nor will they need to, what all the little steps were, and the reason you had for doing them. What they want to know is what the hell it means so they can make decisions. Helping these folks understand quickly can be accomplished in visualizing your work on the data. Enter a little method in pandas called .plot().\n",
    "\n",
    "### 3 Analysts Walk Into A Bar Chart...\n",
    "\n",
    "The bar chart is useful for representing grouped data for comparision. Visualizing the counts of the page visits with a bar chart from the .plot() method makes it easier to see what pages get more counts that just readin gthe number (for most people). To define what type of plot we want, we will use the keyword kind=. For our example below, we'll use bar, or barh (horizontal bar chart) keywords. We can also use other keywords to adjust things like the color, size, title, etc. Take a peeksies at the documentation to see all the options available. Plus, we'll do a little more in the coming exercises."
   ]
  },
  {
   "cell_type": "code",
   "execution_count": 71,
   "metadata": {},
   "outputs": [
    {
     "data": {
      "text/plain": [
       "<matplotlib.axes._subplots.AxesSubplot at 0x2a839715c50>"
      ]
     },
     "execution_count": 71,
     "metadata": {},
     "output_type": "execute_result"
    },
    {
     "data": {
      "image/png": "[encoded data removed]",
      "text/plain": [
       "<matplotlib.figure.Figure at 0x2a8396cbe80>"
      ]
     },
     "metadata": {},
     "output_type": "display_data"
    }
   ],
   "source": [
    "%matplotlib inline\n",
    "data['title'].value_counts()[:15].plot(kind='barh')"
   ]
  },
  {
   "cell_type": "markdown",
   "metadata": {},
   "source": [
    "Aha! With the visualization, we can easily see that the Watsi landing page is by far the most visited.\n",
    "\n",
    "What this graph represents is a distribution of frequently visited pages. It is a display of sevral possible values in the title column and how frequently they occur. \n",
    "\n",
    "An interesting finding here is that the second most visited page is significantly  lower that the most visited. Then the third is pretty different as well. After a while, they all seem pretty insignificant. Thi is what we call a long tail distribution (also knownas a \"logarithmic\" distribution). This is actually a pretty cmmon finding on web traffic (not my own observation, this comes from Mode).\n",
    "\n",
    "Check this out. I want to visualization the referrer_domain, and I want a title on that graph."
   ]
  },
  {
   "cell_type": "code",
   "execution_count": 72,
   "metadata": {},
   "outputs": [
    {
     "data": {
      "text/plain": [
       "<matplotlib.axes._subplots.AxesSubplot at 0x2a839429048>"
      ]
     },
     "execution_count": 72,
     "metadata": {},
     "output_type": "execute_result"
    },
    {
     "data": {
      "image/png": "[encoded data removed]",
      "text/plain": [
       "<matplotlib.figure.Figure at 0x2a83ae27ac8>"
      ]
     },
     "metadata": {},
     "output_type": "display_data"
    }
   ],
   "source": [
    "data['referrer_domain'].value_counts()[:15].plot(kind='bar', title='Top')"
   ]
  },
  {
   "cell_type": "markdown",
   "metadata": {},
   "source": [
    "You see that second entry is empty, right? That means that column is missing values! Missing, not because we somehow made a mistake, or didn't record where the views came from, but because we don't know where the source of those page views. Could have been a texted link, or straight-up typed into a browser. Who knows? Maybe here is an opportunity to dig deeper, find other useful data, investigate further into the mystery. Scooby Doo style, yo.\n",
    "\n",
    "Until then, we gonna filter data with Boolean indexes!"
   ]
  },
  {
   "cell_type": "markdown",
   "metadata": {},
   "source": [
    "# Filtering Data With Boolean Indexes\n",
    "\n",
    "Now that we can count stuff and do a little plotting,let's try out filtering what we are counting. In fact, let's try to filterand segment data, using a Boolean index. We'll even partially match text using the .str.contains().\n",
    "\n",
    "Filtering datawill enable us us to select events following specific patterns, such as finding pages with high pageview counts. Thus, you can dig even deeper into the source of such traffic."
   ]
  },
  {
   "cell_type": "markdown",
   "metadata": {},
   "source": [
    "## Let's Filter!\n",
    "\n"
   ]
  },
  {
   "cell_type": "code",
   "execution_count": null,
   "metadata": {
    "collapsed": true
   },
   "outputs": [],
   "source": []
  }
 ],
 "metadata": {
  "extensions": {
   "jupyter_dashboards": {
    "activeView": "grid_default",
    "version": 1,
    "views": {
     "grid_default": {
      "cellMargin": 10,
      "defaultCellHeight": 20,
      "maxColumns": 12,
      "name": "grid",
      "type": "grid"
     },
     "report_default": {
      "name": "report",
      "type": "report"
     }
    }
   }
  },
  "kernelspec": {
   "display_name": "Python 3",
   "language": "python",
   "name": "python3"
  },
  "language_info": {
   "codemirror_mode": {
    "name": "ipython",
    "version": 3
   },
   "file_extension": ".py",
   "mimetype": "text/x-python",
   "name": "python",
   "nbconvert_exporter": "python",
   "pygments_lexer": "ipython3",
   "version": "3.6.1"
  }
 },
 "nbformat": 4,
 "nbformat_minor": 2
}
